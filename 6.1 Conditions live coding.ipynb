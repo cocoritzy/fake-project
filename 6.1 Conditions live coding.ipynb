{
 "cells": [
  {
   "cell_type": "markdown",
   "metadata": {},
   "source": [
    "# Conditions"
   ]
  },
  {
   "cell_type": "markdown",
   "metadata": {},
   "source": [
    "On peut demander à notre script Python d'effectuer telle ou telle action selon que certaines conditions soient remplies ou non."
   ]
  },
  {
   "cell_type": "markdown",
   "metadata": {},
   "source": [
    "Les opérateurs logiques (`<`, `<=`, `==`, `!=`, `>`, `>=`) permettent de comparer différentes valeurs:"
   ]
  },
  {
   "cell_type": "code",
   "execution_count": 4,
   "metadata": {
    "ExecuteTime": {
     "end_time": "2021-07-21T15:36:00.432805Z",
     "start_time": "2021-07-21T15:36:00.297662Z"
    }
   },
   "outputs": [
    {
     "data": {
      "text/plain": [
       "True"
      ]
     },
     "execution_count": 4,
     "metadata": {},
     "output_type": "execute_result"
    }
   ],
   "source": [
    "'databird' == 'databird' # noter le  \"==\""
   ]
  },
  {
   "cell_type": "code",
   "execution_count": 5,
   "metadata": {
    "ExecuteTime": {
     "end_time": "2021-07-21T15:36:26.410537Z",
     "start_time": "2021-07-21T15:36:26.399193Z"
    }
   },
   "outputs": [
    {
     "data": {
      "text/plain": [
       "True"
      ]
     },
     "execution_count": 5,
     "metadata": {},
     "output_type": "execute_result"
    }
   ],
   "source": [
    "10 != \"10\""
   ]
  },
  {
   "cell_type": "code",
   "execution_count": 6,
   "metadata": {
    "ExecuteTime": {
     "end_time": "2021-07-21T15:36:52.569327Z",
     "start_time": "2021-07-21T15:36:52.537158Z"
    }
   },
   "outputs": [
    {
     "data": {
      "text/plain": [
       "False"
      ]
     },
     "execution_count": 6,
     "metadata": {},
     "output_type": "execute_result"
    }
   ],
   "source": [
    "8 < 3"
   ]
  },
  {
   "cell_type": "markdown",
   "metadata": {},
   "source": [
    "Les structures `if` / `else` permettent de déclencher des actions si une condition est remplie:"
   ]
  },
  {
   "cell_type": "code",
   "execution_count": 8,
   "metadata": {
    "ExecuteTime": {
     "end_time": "2021-07-21T15:38:12.184325Z",
     "start_time": "2021-07-21T15:38:12.111924Z"
    }
   },
   "outputs": [
    {
     "name": "stdout",
     "output_type": "stream",
     "text": [
      "Nous devrons faire mieux l'an prochain.\n"
     ]
    }
   ],
   "source": [
    "croissance = 8\n",
    "\n",
    "if croissance > 10:\n",
    "    print(\"Quelle bonne année !\")\n",
    "else:\n",
    "    print(\"Nous devrons faire mieux l'an prochain.\")"
   ]
  },
  {
   "cell_type": "markdown",
   "metadata": {},
   "source": [
    "`elif` permet de tester plusieurs conditions en même temps :"
   ]
  },
  {
   "cell_type": "code",
   "execution_count": 10,
   "metadata": {
    "ExecuteTime": {
     "end_time": "2021-07-21T15:40:58.753209Z",
     "start_time": "2021-07-21T15:40:58.722783Z"
    }
   },
   "outputs": [],
   "source": [
    "croissance = 15"
   ]
  },
  {
   "cell_type": "code",
   "execution_count": 11,
   "metadata": {
    "ExecuteTime": {
     "end_time": "2021-07-21T15:40:09.066708Z",
     "start_time": "2021-07-21T15:40:09.044913Z"
    }
   },
   "outputs": [
    {
     "name": "stdout",
     "output_type": "stream",
     "text": [
      "Nous avons une bonne croissance\n"
     ]
    }
   ],
   "source": [
    "if not croissance > 0: # noter le mot clé 'not' pour inverser une condition\n",
    "    print(\"Nous sommes en récession\")\n",
    "elif croissance == 0:      \n",
    "    print(\"On ne progresse pas\")\n",
    "elif croissance == 1:\n",
    "    print(\"On croît doucement\")\n",
    "elif croissance > 1:\n",
    "    print(\"Nous avons une bonne croissance\")"
   ]
  },
  {
   "cell_type": "markdown",
   "metadata": {},
   "source": [
    "Attention aux conditions qui se chevauchent !"
   ]
  },
  {
   "cell_type": "code",
   "execution_count": 13,
   "metadata": {
    "ExecuteTime": {
     "end_time": "2021-07-21T15:41:06.158712Z",
     "start_time": "2021-07-21T15:41:06.149232Z"
    }
   },
   "outputs": [
    {
     "name": "stdout",
     "output_type": "stream",
     "text": [
      "a\n"
     ]
    }
   ],
   "source": [
    "if croissance > 5:\n",
    "    print(\"a\")\n",
    "elif croissance > 10:\n",
    "    print(\"b\")\n",
    "else: \n",
    "    print(\"c\")"
   ]
  },
  {
   "cell_type": "markdown",
   "metadata": {},
   "source": [
    "Les opérateurs `and` et `or` ou `&` et `|` permettent d'effectuer plusieurs comparaisons pour une seule condition:"
   ]
  },
  {
   "cell_type": "code",
   "execution_count": 15,
   "metadata": {
    "ExecuteTime": {
     "end_time": "2021-07-21T15:42:21.918227Z",
     "start_time": "2021-07-21T15:42:21.872837Z"
    },
    "scrolled": true
   },
   "outputs": [
    {
     "data": {
      "text/plain": [
       "15"
      ]
     },
     "execution_count": 15,
     "metadata": {},
     "output_type": "execute_result"
    }
   ],
   "source": [
    "croissance"
   ]
  },
  {
   "cell_type": "code",
   "execution_count": 16,
   "metadata": {
    "ExecuteTime": {
     "end_time": "2021-07-21T15:42:28.308965Z",
     "start_time": "2021-07-21T15:42:28.272073Z"
    }
   },
   "outputs": [],
   "source": [
    "inflation = 4"
   ]
  },
  {
   "cell_type": "code",
   "execution_count": 17,
   "metadata": {
    "ExecuteTime": {
     "end_time": "2021-07-21T15:43:36.085912Z",
     "start_time": "2021-07-21T15:43:35.984354Z"
    }
   },
   "outputs": [
    {
     "name": "stdout",
     "output_type": "stream",
     "text": [
      "L'économie surchauffe !\n"
     ]
    }
   ],
   "source": [
    "if (croissance >= 4) and (inflation > 1):\n",
    "    print(\"L'économie surchauffe !\")\n",
    "elif (croissance < 4) or (inflation <= 1):\n",
    "    print(\"Il faut stimuler l'économie !\")\n",
    "else:\n",
    "    print(\"Pas d'information.\")"
   ]
  },
  {
   "cell_type": "code",
   "execution_count": 18,
   "metadata": {
    "ExecuteTime": {
     "end_time": "2021-07-21T15:44:01.914758Z",
     "start_time": "2021-07-21T15:44:01.905002Z"
    }
   },
   "outputs": [
    {
     "name": "stdout",
     "output_type": "stream",
     "text": [
      "L'économie surchauffe !\n"
     ]
    }
   ],
   "source": [
    "if (croissance >= 4) & (inflation > 1):\n",
    "    print(\"L'économie surchauffe !\")\n",
    "elif (croissance < 4) | (inflation <= 1):\n",
    "    print(\"Il faut stimuler l'économie !\")\n",
    "else:\n",
    "    print(\"Pas d'information.\")"
   ]
  },
  {
   "cell_type": "markdown",
   "metadata": {},
   "source": [
    "Une instruction `if` ne doit pas forcément être suivie par un `elif` ou `else`. Elle peut être seule, auquel cas si la condition n'est pas remplie, rien ne se passe, l'instruction n'est pas lue."
   ]
  },
  {
   "cell_type": "code",
   "execution_count": 20,
   "metadata": {
    "ExecuteTime": {
     "end_time": "2021-07-21T15:45:16.936075Z",
     "start_time": "2021-07-21T15:45:16.917424Z"
    }
   },
   "outputs": [],
   "source": [
    "ventes = 25\n",
    "if ventes < 20:\n",
    "    print(\"Les ventes ne sont pas bonnes !\")"
   ]
  },
  {
   "cell_type": "markdown",
   "metadata": {},
   "source": [
    "# Raccourcis Notebook"
   ]
  },
  {
   "cell_type": "markdown",
   "metadata": {},
   "source": [
    "# "
   ]
  },
  {
   "cell_type": "markdown",
   "metadata": {},
   "source": [
    "A ce stade, voici quelques raccourcis pour vous faciliter la tâche:"
   ]
  },
  {
   "cell_type": "code",
   "execution_count": null,
   "metadata": {},
   "outputs": [],
   "source": []
  },
  {
   "cell_type": "code",
   "execution_count": null,
   "metadata": {},
   "outputs": [],
   "source": []
  },
  {
   "cell_type": "markdown",
   "metadata": {},
   "source": [
    "> add cell above: **A**\\\n",
    "> add cell below: **B**\\\n",
    "> cut cell: **X**\\\n",
    "> cancel cut: **Z**\\\n",
    "> split cell: **Ctrl + Shift + -**\\\n",
    "> merge cells: **Shift + M**\\\n",
    "> change cell to markdown: **M**\\\n",
    "> change cell to code: **Y**"
   ]
  },
  {
   "cell_type": "markdown",
   "metadata": {},
   "source": [
    "Et une commande magique pour vérifier le temps de calcul  : \n",
    "\n",
    "> `%% time`"
   ]
  },
  {
   "cell_type": "code",
   "execution_count": 26,
   "metadata": {
    "ExecuteTime": {
     "end_time": "2021-07-21T15:48:16.183617Z",
     "start_time": "2021-07-21T15:48:16.037367Z"
    }
   },
   "outputs": [
    {
     "name": "stdout",
     "output_type": "stream",
     "text": [
      "CPU times: user 4 μs, sys: 1 μs, total: 5 μs\n",
      "Wall time: 9.06 μs\n"
     ]
    }
   ],
   "source": [
    "%%time\n",
    "\n",
    "ventes = 25\n",
    "if ventes < 20:\n",
    "    print(\"Les ventes ne sont pas bonnes !\")"
   ]
  },
  {
   "cell_type": "code",
   "execution_count": null,
   "metadata": {},
   "outputs": [],
   "source": []
  }
 ],
 "metadata": {
  "hide_input": false,
  "kernelspec": {
   "display_name": "Python 3 (ipykernel)",
   "language": "python",
   "name": "python3"
  },
  "language_info": {
   "codemirror_mode": {
    "name": "ipython",
    "version": 3
   },
   "file_extension": ".py",
   "mimetype": "text/x-python",
   "name": "python",
   "nbconvert_exporter": "python",
   "pygments_lexer": "ipython3",
   "version": "3.12.4"
  },
  "toc": {
   "base_numbering": 1,
   "nav_menu": {},
   "number_sections": true,
   "sideBar": true,
   "skip_h1_title": false,
   "title_cell": "Table of Contents",
   "title_sidebar": "Contents",
   "toc_cell": false,
   "toc_position": {},
   "toc_section_display": true,
   "toc_window_display": false
  },
  "varInspector": {
   "cols": {
    "lenName": 16,
    "lenType": 16,
    "lenVar": 40
   },
   "kernels_config": {
    "python": {
     "delete_cmd_postfix": "",
     "delete_cmd_prefix": "del ",
     "library": "var_list.py",
     "varRefreshCmd": "print(var_dic_list())"
    },
    "r": {
     "delete_cmd_postfix": ") ",
     "delete_cmd_prefix": "rm(",
     "library": "var_list.r",
     "varRefreshCmd": "cat(var_dic_list()) "
    }
   },
   "types_to_exclude": [
    "module",
    "function",
    "builtin_function_or_method",
    "instance",
    "_Feature"
   ],
   "window_display": false
  }
 },
 "nbformat": 4,
 "nbformat_minor": 4
}
