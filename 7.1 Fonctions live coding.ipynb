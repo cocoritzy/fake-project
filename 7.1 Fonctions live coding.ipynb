{
 "cells": [
  {
   "cell_type": "markdown",
   "metadata": {},
   "source": [
    "# Fonctions "
   ]
  },
  {
   "cell_type": "markdown",
   "metadata": {},
   "source": [
    "En Python, il existe certaines fonctions fondamentales (\"built-in\") comme `print`, `type`, `range` ou encore `len` vus plus tôt:"
   ]
  },
  {
   "cell_type": "code",
   "execution_count": null,
   "metadata": {
    "ExecuteTime": {
     "end_time": "2021-07-21T16:43:04.905884Z",
     "start_time": "2021-07-21T16:43:04.725286Z"
    }
   },
   "outputs": [],
   "source": [
    "print('DataBird')\n",
    "len('DataBird')"
   ]
  },
  {
   "cell_type": "markdown",
   "metadata": {},
   "source": [
    "La plupart des fonctions simples et utiles sont déjà codées en Python : "
   ]
  },
  {
   "cell_type": "code",
   "execution_count": null,
   "metadata": {
    "ExecuteTime": {
     "end_time": "2021-07-21T16:43:21.058343Z",
     "start_time": "2021-07-21T16:43:21.028661Z"
    }
   },
   "outputs": [],
   "source": [
    "nombres = [1, 2, 3, 4]\n",
    "print(min(nombres))\n",
    "print(max(nombres))"
   ]
  },
  {
   "cell_type": "code",
   "execution_count": null,
   "metadata": {
    "ExecuteTime": {
     "end_time": "2021-07-21T16:44:10.695115Z",
     "start_time": "2021-07-21T16:44:10.644620Z"
    }
   },
   "outputs": [],
   "source": [
    "x = 4.75\n",
    "print(round(x))\n",
    "print(round(x, 1))"
   ]
  },
  {
   "cell_type": "markdown",
   "metadata": {},
   "source": [
    "### Définition de fonctions \n",
    "\n",
    "Il est possible de définir ses propres fonctions, grâce au mot-clé `def` :"
   ]
  },
  {
   "cell_type": "code",
   "execution_count": null,
   "metadata": {
    "ExecuteTime": {
     "end_time": "2021-07-21T16:46:34.990486Z",
     "start_time": "2021-07-21T16:46:34.908361Z"
    }
   },
   "outputs": [],
   "source": [
    "def ma_fonction(x):\n",
    "    x = x + 2\n",
    "    x = x - 1\n",
    "    return x"
   ]
  },
  {
   "cell_type": "code",
   "execution_count": null,
   "metadata": {
    "ExecuteTime": {
     "end_time": "2021-07-21T16:46:59.246902Z",
     "start_time": "2021-07-21T16:46:59.224081Z"
    }
   },
   "outputs": [],
   "source": [
    "ma_fonction(10)"
   ]
  },
  {
   "cell_type": "code",
   "execution_count": null,
   "metadata": {
    "ExecuteTime": {
     "end_time": "2021-07-21T16:47:53.546375Z",
     "start_time": "2021-07-21T16:47:53.461983Z"
    }
   },
   "outputs": [],
   "source": [
    "def fahr_to_celsius(temp):\n",
    "    return ((temp - 32) * (5 / 9))\n",
    "\n",
    "print(\"95 ° F correspond à \", fahr_to_celsius(95), \"° C\")"
   ]
  },
  {
   "cell_type": "markdown",
   "metadata": {},
   "source": [
    "Les fonctions peuvent prendre plusieurs arguments, ou aucun :"
   ]
  },
  {
   "cell_type": "code",
   "execution_count": null,
   "metadata": {
    "ExecuteTime": {
     "end_time": "2021-07-21T16:48:44.766270Z",
     "start_time": "2021-07-21T16:48:44.754531Z"
    }
   },
   "outputs": [],
   "source": [
    "def marge_brute(REX, CA):\n",
    "    marge = REX / CA\n",
    "    return marge"
   ]
  },
  {
   "cell_type": "code",
   "execution_count": null,
   "metadata": {
    "ExecuteTime": {
     "end_time": "2021-07-21T16:48:59.888528Z",
     "start_time": "2021-07-21T16:48:59.851107Z"
    }
   },
   "outputs": [],
   "source": [
    "marge_brute(30, 100)"
   ]
  },
  {
   "cell_type": "code",
   "execution_count": null,
   "metadata": {
    "ExecuteTime": {
     "end_time": "2021-07-21T16:49:22.670954Z",
     "start_time": "2021-07-21T16:49:22.653511Z"
    }
   },
   "outputs": [],
   "source": [
    "def display_text():\n",
    "    print(\"Nous voilà !\")"
   ]
  },
  {
   "cell_type": "code",
   "execution_count": null,
   "metadata": {
    "ExecuteTime": {
     "end_time": "2021-07-21T16:49:26.380185Z",
     "start_time": "2021-07-21T16:49:26.362594Z"
    }
   },
   "outputs": [],
   "source": [
    "display_text()"
   ]
  },
  {
   "cell_type": "markdown",
   "metadata": {},
   "source": [
    "Les paramètres peuvent également avoir des valeurs par défaut. Dans ce cas, ils deviennent **optionnels** :"
   ]
  },
  {
   "cell_type": "code",
   "execution_count": null,
   "metadata": {
    "ExecuteTime": {
     "end_time": "2021-07-21T16:52:05.414040Z",
     "start_time": "2021-07-21T16:52:05.362180Z"
    }
   },
   "outputs": [],
   "source": [
    "def marge_nette(REX, CA, tax=0.3):  # par défaut le taux de taxation est fixé à 0.3\n",
    "    marge = REX / CA\n",
    "    marge = marge * (1 - tax)\n",
    "    return marge\n",
    "\n",
    "marge_nette(30, 100) # on n'est pas obligé de spécifier les valeurs"
   ]
  },
  {
   "cell_type": "code",
   "execution_count": null,
   "metadata": {
    "ExecuteTime": {
     "end_time": "2021-07-21T16:52:41.683390Z",
     "start_time": "2021-07-21T16:52:41.644954Z"
    }
   },
   "outputs": [],
   "source": [
    "marge_nette(30, 100, tax=0.4) # mais on peut le faire si besoin "
   ]
  },
  {
   "cell_type": "markdown",
   "metadata": {},
   "source": [
    "On peut utiliser des fonctions dans des boucles et inversement "
   ]
  },
  {
   "cell_type": "code",
   "execution_count": null,
   "metadata": {
    "ExecuteTime": {
     "end_time": "2021-07-21T16:53:11.393955Z",
     "start_time": "2021-07-21T16:53:11.347266Z"
    },
    "scrolled": true
   },
   "outputs": [],
   "source": [
    "temperatures = [32, 68, 100, 212]\n",
    "\n",
    "for x in temperatures:\n",
    "    print(x, \"° F correspond à\", fahr_to_celsius(x), \"° C\")"
   ]
  },
  {
   "cell_type": "markdown",
   "metadata": {},
   "source": [
    "### Bonnes pratiques : lisibilité et modularité"
   ]
  },
  {
   "cell_type": "markdown",
   "metadata": {},
   "source": [
    "* Bonne pratique 1 : grouper des blocs de code qui doivent être souvent répétés sous forme de fonction $\\rightarrow$ le principe **Don't Repeat Yourself (DRY)**."
   ]
  },
  {
   "cell_type": "markdown",
   "metadata": {},
   "source": [
    "* Bonne pratique 2 : expliciter son code et décrire le rôle de nos fonctions, avec des commentaires et `docstrings` (documentation de la fonction)."
   ]
  },
  {
   "cell_type": "code",
   "execution_count": null,
   "metadata": {
    "ExecuteTime": {
     "end_time": "2021-07-21T16:55:31.460161Z",
     "start_time": "2021-07-21T16:55:31.416692Z"
    }
   },
   "outputs": [],
   "source": [
    "def marge_brute(REX, CA):\n",
    "    '''\n",
    "    Cette fonction prend en entrée le chiffre d'affaires et le résultat d'exploitation\n",
    "    et donne en retour la marge opérationnelle.\n",
    "    \n",
    "    Exemples d'utilisation : \n",
    "    >>> marge_brute(10, 100)\n",
    "    0.1\n",
    "    >>> marge_brute(1, 200)\n",
    "    0.05\n",
    "    '''\n",
    "    marge = REX / CA\n",
    "    return marge\n",
    "\n",
    "marge_brute(10, 100)"
   ]
  },
  {
   "cell_type": "markdown",
   "metadata": {},
   "source": [
    "> Remarque : il est possible d'accéder à la documentation (docstring) d'une fonction avec `help` ou avec le raccourci \"Maj + Tab\" utilisé à l'intérieur de la fonction."
   ]
  },
  {
   "cell_type": "code",
   "execution_count": 1,
   "metadata": {
    "ExecuteTime": {
     "end_time": "2021-07-21T16:55:53.320060Z",
     "start_time": "2021-07-21T16:55:53.281841Z"
    },
    "scrolled": true
   },
   "outputs": [
    {
     "ename": "NameError",
     "evalue": "name 'marge_brute' is not defined",
     "output_type": "error",
     "traceback": [
      "\u001b[0;31m---------------------------------------------------------------------------\u001b[0m",
      "\u001b[0;31mNameError\u001b[0m                                 Traceback (most recent call last)",
      "Cell \u001b[0;32mIn[1], line 1\u001b[0m\n\u001b[0;32m----> 1\u001b[0m help(marge_brute)\n",
      "\u001b[0;31mNameError\u001b[0m: name 'marge_brute' is not defined"
     ]
    }
   ],
   "source": [
    "help(marge_brute)"
   ]
  },
  {
   "cell_type": "code",
   "execution_count": null,
   "metadata": {},
   "outputs": [],
   "source": [
    "marge_brute() # utiliser le raccourci \"Maj + Tab\" pour accéder à la documentation"
   ]
  },
  {
   "cell_type": "code",
   "execution_count": null,
   "metadata": {
    "ExecuteTime": {
     "end_time": "2021-07-21T16:56:49.569748Z",
     "start_time": "2021-07-21T16:56:49.532846Z"
    },
    "scrolled": true
   },
   "outputs": [],
   "source": [
    "help(round) # Fonctionne aussi avec les fonctions built-in "
   ]
  },
  {
   "cell_type": "code",
   "execution_count": null,
   "metadata": {},
   "outputs": [],
   "source": [
    "round()"
   ]
  },
  {
   "cell_type": "markdown",
   "metadata": {},
   "source": [
    "* Bonne pratique 3 : le \"type hinting\" c'est à dire **préciser dans la définition de la fonction le type que l'on attend pour les arguments (input) et le type du résultat renvoyé (output)**\n",
    "\n",
    "Le type hinting est apparu récemment dans Python et n'est donc pas encore communément utilisé, mais il est une grande aide pour améliorer la lisibilité du code !"
   ]
  },
  {
   "cell_type": "code",
   "execution_count": null,
   "metadata": {
    "ExecuteTime": {
     "end_time": "2021-07-20T13:45:58.739856Z",
     "start_time": "2021-07-20T13:45:58.730588Z"
    }
   },
   "outputs": [],
   "source": [
    "def dire_bonjour(nom: str) -> str:\n",
    "    return \"Hello \" + nom\n",
    "        \n",
    "dire_bonjour('Constantin')"
   ]
  },
  {
   "cell_type": "code",
   "execution_count": null,
   "metadata": {
    "ExecuteTime": {
     "end_time": "2021-07-20T13:46:28.931477Z",
     "start_time": "2021-07-20T13:46:28.923738Z"
    },
    "scrolled": true
   },
   "outputs": [],
   "source": [
    "def ajouter_deux(x: int, y: int = 2) -> int:\n",
    "    return x + y\n",
    "\n",
    "ajouter_deux(1)"
   ]
  },
  {
   "cell_type": "markdown",
   "metadata": {},
   "source": [
    "# Méthodes"
   ]
  },
  {
   "cell_type": "markdown",
   "metadata": {},
   "source": [
    "Enfin, il est à noter qu'il existe une légère différence entre les _fonctions_ et les _méthodes_.\n",
    "\n",
    "Une fonction est un objet, que l'ont peut créer avec `def` et `return`. Elle prend des arguments en entrée (input), d'un ou plusieurs types (ex : la fonction `print`) et effectue une action. Elle existe \"par elle-même\".\n",
    "\n",
    "Une méthode effectue également une action, mais elle est **associée à un objet**. Elle n'existe pas en-dehors de cet objet. Elle s'appelle avec la syntaxe `objet.methode()` :"
   ]
  },
  {
   "cell_type": "code",
   "execution_count": null,
   "metadata": {
    "ExecuteTime": {
     "end_time": "2021-07-21T16:59:35.947526Z",
     "start_time": "2021-07-21T16:59:35.911801Z"
    }
   },
   "outputs": [],
   "source": [
    "texte = 'Bonjour, et bienvenue chez DataBird'\n",
    "texte.split()"
   ]
  },
  {
   "cell_type": "code",
   "execution_count": null,
   "metadata": {
    "ExecuteTime": {
     "end_time": "2021-07-21T17:00:15.388129Z",
     "start_time": "2021-07-21T17:00:15.309979Z"
    }
   },
   "outputs": [],
   "source": [
    "split(texte)"
   ]
  },
  {
   "cell_type": "markdown",
   "metadata": {},
   "source": [
    "`split` n'est pas une fonction ; elle n'existe pas en-dehors d'un objet de type `str` ! On l'appelle forcément avec la syntaxe `str.split()`."
   ]
  },
  {
   "cell_type": "code",
   "execution_count": null,
   "metadata": {
    "ExecuteTime": {
     "end_time": "2021-07-20T13:54:10.968589Z",
     "start_time": "2021-07-20T13:54:10.962419Z"
    }
   },
   "outputs": [],
   "source": [
    "texte.split(',') #on peut toutefois ajouter des arguments optionnels pour préciser l'action"
   ]
  },
  {
   "cell_type": "code",
   "execution_count": null,
   "metadata": {
    "ExecuteTime": {
     "end_time": "2021-07-20T13:54:45.991803Z",
     "start_time": "2021-07-20T13:54:45.956241Z"
    }
   },
   "outputs": [],
   "source": [
    "# Autres \"string methods\" (méthodes de texte)\n",
    "\n",
    "texte.upper()\n",
    "texte.lower()"
   ]
  },
  {
   "cell_type": "markdown",
   "metadata": {},
   "source": [
    "Nous en verrons bientôt beaucoup plus !"
   ]
  },
  {
   "cell_type": "code",
   "execution_count": 1,
   "metadata": {},
   "outputs": [
    {
     "data": {
      "text/plain": [
       "str"
      ]
     },
     "execution_count": 1,
     "metadata": {},
     "output_type": "execute_result"
    }
   ],
   "source": [
    "type(\"caroline\")"
   ]
  },
  {
   "cell_type": "code",
   "execution_count": 3,
   "metadata": {},
   "outputs": [
    {
     "data": {
      "text/plain": [
       "float"
      ]
     },
     "execution_count": 3,
     "metadata": {},
     "output_type": "execute_result"
    }
   ],
   "source": [
    "type(3.4)"
   ]
  },
  {
   "cell_type": "code",
   "execution_count": 5,
   "metadata": {},
   "outputs": [
    {
     "data": {
      "text/plain": [
       "int"
      ]
     },
     "execution_count": 5,
     "metadata": {},
     "output_type": "execute_result"
    }
   ],
   "source": [
    "type(4)"
   ]
  },
  {
   "cell_type": "code",
   "execution_count": 7,
   "metadata": {},
   "outputs": [
    {
     "data": {
      "text/plain": [
       "bool"
      ]
     },
     "execution_count": 7,
     "metadata": {},
     "output_type": "execute_result"
    }
   ],
   "source": [
    "type(3>2)"
   ]
  },
  {
   "cell_type": "code",
   "execution_count": 9,
   "metadata": {},
   "outputs": [
    {
     "data": {
      "text/plain": [
       "True"
      ]
     },
     "execution_count": 9,
     "metadata": {},
     "output_type": "execute_result"
    }
   ],
   "source": [
    "3>2"
   ]
  },
  {
   "cell_type": "code",
   "execution_count": 11,
   "metadata": {},
   "outputs": [
    {
     "data": {
      "text/plain": [
       "3"
      ]
     },
     "execution_count": 11,
     "metadata": {},
     "output_type": "execute_result"
    }
   ],
   "source": [
    "int(3.4)"
   ]
  },
  {
   "cell_type": "code",
   "execution_count": 13,
   "metadata": {},
   "outputs": [
    {
     "data": {
      "text/plain": [
       "'5.6'"
      ]
     },
     "execution_count": 13,
     "metadata": {},
     "output_type": "execute_result"
    }
   ],
   "source": [
    "str(5.6)"
   ]
  },
  {
   "cell_type": "code",
   "execution_count": 15,
   "metadata": {},
   "outputs": [
    {
     "data": {
      "text/plain": [
       "True"
      ]
     },
     "execution_count": 15,
     "metadata": {},
     "output_type": "execute_result"
    }
   ],
   "source": [
    "bool(5.6)"
   ]
  },
  {
   "cell_type": "code",
   "execution_count": 21,
   "metadata": {},
   "outputs": [
    {
     "data": {
      "text/plain": [
       "1"
      ]
     },
     "execution_count": 21,
     "metadata": {},
     "output_type": "execute_result"
    }
   ],
   "source": [
    "int(\"1\")"
   ]
  },
  {
   "cell_type": "code",
   "execution_count": 23,
   "metadata": {},
   "outputs": [
    {
     "data": {
      "text/plain": [
       "0"
      ]
     },
     "execution_count": 23,
     "metadata": {},
     "output_type": "execute_result"
    }
   ],
   "source": [
    "int(False)"
   ]
  },
  {
   "cell_type": "code",
   "execution_count": 31,
   "metadata": {},
   "outputs": [
    {
     "name": "stdout",
     "output_type": "stream",
     "text": [
      "0\n",
      "1\n",
      "2\n",
      "3\n",
      "4\n",
      "5\n",
      "6\n",
      "7\n",
      "8\n",
      "9\n"
     ]
    }
   ],
   "source": [
    "i = -1\n",
    "\n",
    "while i <9:\n",
    "    i +=1\n",
    "    print(i)"
   ]
  },
  {
   "cell_type": "code",
   "execution_count": 29,
   "metadata": {},
   "outputs": [
    {
     "name": "stdout",
     "output_type": "stream",
     "text": [
      "0\n",
      "1\n",
      "2\n",
      "3\n",
      "4\n",
      "5\n",
      "6\n",
      "7\n",
      "8\n",
      "9\n"
     ]
    }
   ],
   "source": [
    "for digit in range(10):\n",
    "    print(digit) "
   ]
  },
  {
   "cell_type": "code",
   "execution_count": null,
   "metadata": {},
   "outputs": [],
   "source": []
  }
 ],
 "metadata": {
  "hide_input": false,
  "kernelspec": {
   "display_name": "Python 3 (ipykernel)",
   "language": "python",
   "name": "python3"
  },
  "language_info": {
   "codemirror_mode": {
    "name": "ipython",
    "version": 3
   },
   "file_extension": ".py",
   "mimetype": "text/x-python",
   "name": "python",
   "nbconvert_exporter": "python",
   "pygments_lexer": "ipython3",
   "version": "3.12.4"
  },
  "toc": {
   "base_numbering": 1,
   "nav_menu": {},
   "number_sections": true,
   "sideBar": true,
   "skip_h1_title": false,
   "title_cell": "Table of Contents",
   "title_sidebar": "Contents",
   "toc_cell": false,
   "toc_position": {},
   "toc_section_display": true,
   "toc_window_display": false
  },
  "varInspector": {
   "cols": {
    "lenName": 16,
    "lenType": 16,
    "lenVar": 40
   },
   "kernels_config": {
    "python": {
     "delete_cmd_postfix": "",
     "delete_cmd_prefix": "del ",
     "library": "var_list.py",
     "varRefreshCmd": "print(var_dic_list())"
    },
    "r": {
     "delete_cmd_postfix": ") ",
     "delete_cmd_prefix": "rm(",
     "library": "var_list.r",
     "varRefreshCmd": "cat(var_dic_list()) "
    }
   },
   "types_to_exclude": [
    "module",
    "function",
    "builtin_function_or_method",
    "instance",
    "_Feature"
   ],
   "window_display": false
  }
 },
 "nbformat": 4,
 "nbformat_minor": 4
}
