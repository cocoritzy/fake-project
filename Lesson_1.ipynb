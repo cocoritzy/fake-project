{
 "cells": [
  {
   "cell_type": "markdown",
   "id": "2f201133-700d-4113-9fec-626f63395cf9",
   "metadata": {},
   "source": [
    "# Introduction"
   ]
  },
  {
   "cell_type": "markdown",
   "id": "6b627286-323c-4f0a-b895-f509f970905c",
   "metadata": {},
   "source": [
    "## Liens utiles "
   ]
  },
  {
   "cell_type": "markdown",
   "id": "5b73bc3e-abf1-4cac-926e-6a54c45048e1",
   "metadata": {},
   "source": [
    "- Bienvenue tout le monde\n",
    "- super enthousiate d'être ici\n",
    "- j'espere que tout s'etre bien passé jusqu'à là\n",
    "- on peut commencer par s'introduire\n",
    "- je commence et apres je fais l'appelle et un par un vous expliquer un peu ou vous en etes en programmation, python et objectif de ce cours "
   ]
  },
  {
   "cell_type": "markdown",
   "id": "26042a67-fc72-4eea-bddd-08fad2e34674",
   "metadata": {},
   "source": [
    "## Presentation"
   ]
  },
  {
   "cell_type": "markdown",
   "id": "f764db6b-a2a7-4351-884b-09daa3884906",
   "metadata": {},
   "source": [
    "\n",
    "- Je suis ingénieur informatique\n",
    "- j'ai fait des études d'ingénieur angleterre\n",
    "- bachelor en ingenieur generaliste\n",
    "- master spécialisation en informatique et robotique ( iot, machine learning, data science, electrique)\n",
    "- Experience en programmation - robot, traitement de donnée, prédiction\n",
    "- pendant mon projet de fin d'etude je me suis spécialisé dans l'impact ecologique d'internet\n",
    "- j'ai travaillé en tant que consultante en informatique durable - reduire empreinte carbone logiciel\n",
    "- aujourd'hui à mon compte - projet plus perso et donne des cours \n",
    "\n",
    "je vais commencer par - "
   ]
  },
  {
   "cell_type": "markdown",
   "id": "91a74c28-a274-4096-9caa-ab66974ec41b",
   "metadata": {},
   "source": [
    "# Pourquoi Python c'est le bon choix d'apprendre python ?\n",
    "- très accesible\n",
    "- language haut niveau\n",
    "- polyvalent \n",
    "- application dans de nombreux domaines\n",
    "- communauté ( github, quora, stack overflow, reddit) - tj qq q eu ce probleme \n",
    "- bibliothèque grâce à une grande communauté ( numpy, pandas, flask - devweb, mathplotlib - visualisation) - import numpy as np   "
   ]
  },
  {
   "cell_type": "markdown",
   "id": "29fcef7f-6aa4-4cee-a44f-f1103175776b",
   "metadata": {},
   "source": [
    "## Objectif de ce module \n",
    "- 5 seances\n",
    "- il y un seul but : comprendre la mentalité de python - coder en total autonomie ( reflex, prompt) \n",
    "- code : syntaxe and algorithme\n",
    "- syntaxe - ce n'est pas une barriere surtout en python - regarder en ligne\n",
    "- le code ce n'est pas la syntaxe\n",
    "- jeux \n",
    "- l'algorithme - probleme, le decouper, le mettre en petit morceau, creative pour y arriver\n",
    "- step by step\n",
    "- peur "
   ]
  },
  {
   "cell_type": "markdown",
   "id": "616f8dca-d7e3-4b9b-ab6d-2b7c563d1a50",
   "metadata": {},
   "source": [
    "## Programme ajd \n",
    "- jupyter notebook\n",
    "- kahoot sur les bases \n",
    "- normalement vous avez tous fait la preparation - on va voir où vous en etes\n",
    "- faire des exercices live de comprehension tous ensemble ( 30 min)\n",
    "- d'autres questions un peu plus poussees\n",
    "- de faire quelques exercices plus poussés sur les conditions et fonctions \n"
   ]
  },
  {
   "cell_type": "markdown",
   "id": "7424925d-5db3-4079-8ac8-c71b7058b236",
   "metadata": {},
   "source": [
    "## Jupyter notebook \n",
    "- prototypage rapide et expérimentation de données"
   ]
  },
  {
   "cell_type": "markdown",
   "id": "a2846a61-bf71-49fa-a3e3-e27260eb13d2",
   "metadata": {},
   "source": [
    "## variable python \n",
    "- https://www.data-bird.co/blog/guide-variables-python\n",
    "- stocker de la donnee\n",
    "- reference de où elle est dans le stockage\n",
    "- bien chosir le nom et pas trop de variable globale \n",
    "- commencer par une lettre "
   ]
  },
  {
   "cell_type": "code",
   "execution_count": 36,
   "id": "ff427a55-f503-490e-9bc0-6bf7a77aff2e",
   "metadata": {},
   "outputs": [
    {
     "ename": "SyntaxError",
     "evalue": "invalid syntax (1116709087.py, line 1)",
     "output_type": "error",
     "traceback": [
      "\u001b[0;36m  Cell \u001b[0;32mIn[36], line 1\u001b[0;36m\u001b[0m\n\u001b[0;31m    Variables numériques : entier (int), decimaux ( float), complex,\u001b[0m\n\u001b[0m              ^\u001b[0m\n\u001b[0;31mSyntaxError\u001b[0m\u001b[0;31m:\u001b[0m invalid syntax\n"
     ]
    }
   ],
   "source": [
    "Variables numériques : entier (int), decimaux ( float), complex, \n",
    "Variable text : string \n",
    "Booléennes ( 2 valeurs)\n",
    "Sequence : liste, tuples, chaines de caracters \n"
   ]
  },
  {
   "cell_type": "code",
   "execution_count": null,
   "id": "353b1585-b3ff-42ea-96fa-d7bdc6f5ec19",
   "metadata": {},
   "outputs": [],
   "source": [
    "x = 10 # Variable Globale\n",
    "\n",
    "def ma_fonction ():\n",
    "\tx = 10 # Variable Locale\n",
    "    print (x) # Affiche 10\n",
    "    \n",
    "ma_fonction()\n",
    "print (x) # erreur : x n'est pas défini en dehors de la fonction"
   ]
  },
  {
   "cell_type": "markdown",
   "id": "00c80355-1a24-47b5-b6e6-7a186eb3b73b",
   "metadata": {},
   "source": [
    "## built in fonction / pre onstruit \n",
    "- facilite deja la\n",
    "- exemple : print()\n",
    "- len()\n",
    "- sum()\n",
    "\n",
    "-x = 2 y = 4 sum([x,y])\n",
    "\n",
    "- int(float(\"1.2\"))"
   ]
  },
  {
   "cell_type": "markdown",
   "id": "2cfc3678-5244-4c27-958f-7124eec68f33",
   "metadata": {},
   "source": [
    "# type d'erreur \n",
    "SyntaxError, erreur de syntaxe.\n",
    "IndexError, erreur d'indexation.\n",
    "NameError, erreur d'assignation.\n",
    "TypeError, erreur de type - incompatible 5 + \"10\""
   ]
  },
  {
   "cell_type": "markdown",
   "id": "a6834ed9-ecaf-4c9a-b549-a151d0573a0c",
   "metadata": {},
   "source": [
    "Le mot clé break permet d'immédiatement sortir d'une boucle si une conditions est remplie\n",
    "\n"
   ]
  }
 ],
 "metadata": {
  "kernelspec": {
   "display_name": "Python 3 (ipykernel)",
   "language": "python",
   "name": "python3"
  },
  "language_info": {
   "codemirror_mode": {
    "name": "ipython",
    "version": 3
   },
   "file_extension": ".py",
   "mimetype": "text/x-python",
   "name": "python",
   "nbconvert_exporter": "python",
   "pygments_lexer": "ipython3",
   "version": "3.12.4"
  }
 },
 "nbformat": 4,
 "nbformat_minor": 5
}
