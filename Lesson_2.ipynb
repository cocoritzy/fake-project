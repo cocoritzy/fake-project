{
 "cells": [
  {
   "cell_type": "markdown",
   "id": "a4c34c9b-c8d1-4f51-9957-8a1ba48f521a",
   "metadata": {},
   "source": [
    "Les listes" cc
   ]
  },
  {
   "cell_type": "code",
   "execution_count": null,
   "id": "04bada5f-7366-4bc8-bc83-6b0956f90860",
   "metadata": {},
   "outputs": [],
   "source": [
    "- flexible (on peut mettre des données de differents types) et mutable "
   ]
  },
  {
   "cell_type": "code",
   "execution_count": 4,
   "id": "bdb98a0e-5878-4d06-a068-4913585a9971",
   "metadata": {},
   "outputs": [
    {
     "data": {
      "text/plain": [
       "[5, 6, 7, 5, 6, 7, 8, 3]"
      ]
     },
     "execution_count": 4,
     "metadata": {},
     "output_type": "execute_result"
    }
   ],
   "source": [
    "liste = [5,6,7,5,6,7,8]\n",
    "liste.append(3)\n",
    "liste"
   ]
  },
  {
   "cell_type": "code",
   "execution_count": 16,
   "id": "713d8f42-ad5e-4b3a-a90f-2bd279d0abf2",
   "metadata": {},
   "outputs": [
    {
     "name": "stdout",
     "output_type": "stream",
     "text": [
      "7\n"
     ]
    },
    {
     "data": {
      "text/plain": [
       "[5, 6, 7, 5, 7, 8]"
      ]
     },
     "execution_count": 16,
     "metadata": {},
     "output_type": "execute_result"
    }
   ],
   "source": [
    "liste = [5,6,7,5,6,7,8]\n",
    "print(len(liste))\n",
    "liste.pop(4)\n",
    "liste"
   ]
  },
  {
   "cell_type": "code",
   "execution_count": 12,
   "id": "39554560-daa4-4e7e-9248-57b6f0e49ba3",
   "metadata": {},
   "outputs": [
    {
     "data": {
      "text/plain": [
       "6"
      ]
     },
     "execution_count": 12,
     "metadata": {},
     "output_type": "execute_result"
    }
   ],
   "source": [
    "len(liste)"
   ]
  },
  {
   "cell_type": "code",
   "execution_count": null,
   "id": "cdb7d0e9-ff93-4596-944b-48e0256df98d",
   "metadata": {},
   "outputs": [],
   "source": []
  }
 ],
 "metadata": {
  "kernelspec": {
   "display_name": "Python 3 (ipykernel)",
   "language": "python",
   "name": "python3"
  },
  "language_info": {
   "codemirror_mode": {
    "name": "ipython",
    "version": 3
   },
   "file_extension": ".py",
   "mimetype": "text/x-python",
   "name": "python",
   "nbconvert_exporter": "python",
   "pygments_lexer": "ipython3",
   "version": "3.12.4"
  }
 },
 "nbformat": 4,
 "nbformat_minor": 5
}
