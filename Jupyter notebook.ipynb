{
 "cells": [
  {
   "cell_type": "code",
   "execution_count": 91,
   "id": "b0f19801-d33d-454f-8e0c-252f1fca0884",
   "metadata": {},
   "outputs": [
    {
     "name": "stdin",
     "output_type": "stream",
     "text": [
      " donne moi un numero 3\n"
     ]
    },
    {
     "name": "stdout",
     "output_type": "stream",
     "text": [
      "3\n"
     ]
    }
   ],
   "source": [
    "x = input('donne moi un numero')\n",
    "\n",
    "print(x)"
   ]
  },
  {
   "cell_type": "code",
   "execution_count": 83,
   "id": "78d9bdcb-3d80-4064-9e80-9bbd0dddee0f",
   "metadata": {},
   "outputs": [
    {
     "name": "stdout",
     "output_type": "stream",
     "text": [
      "Help on built-in function print in module builtins:\n",
      "\n",
      "print(*args, sep=' ', end='\\n', file=None, flush=False)\n",
      "    Prints the values to a stream, or to sys.stdout by default.\n",
      "\n",
      "    sep\n",
      "      string inserted between values, default a space.\n",
      "    end\n",
      "      string appended after the last value, default a newline.\n",
      "    file\n",
      "      a file-like object (stream); defaults to the current sys.stdout.\n",
      "    flush\n",
      "      whether to forcibly flush the stream.\n",
      "\n"
     ]
    }
   ],
   "source": [
    "help(print)"
   ]
  },
  {
   "cell_type": "code",
   "execution_count": null,
   "id": "dbc12c6e-155a-478a-b564-46239ffe69d9",
   "metadata": {},
   "outputs": [],
   "source": [
    "type(3)"
   ]
  },
  {
   "cell_type": "markdown",
   "id": "545c1dc1-11dc-4720-9cb1-a6c8d44a72de",
   "metadata": {},
   "source": [
    "code de coline "
   ]
  },
  {
   "cell_type": "markdown",
   "id": "330e3ecd-3a8c-4b36-a744-ecf9262da2a7",
   "metadata": {},
   "source": [
    "igdijgvidsjgodsg"
   ]
  },
  {
   "cell_type": "code",
   "execution_count": null,
   "id": "824e1b40-ad4f-4d13-a8df-e540729517c0",
   "metadata": {},
   "outputs": [],
   "source": [
    "x = 4\n",
    "print(x)"
   ]
  },
  {
   "cell_type": "code",
   "execution_count": null,
   "id": "9b1226de-5f54-477b-8e10-7389c4f6aa90",
   "metadata": {},
   "outputs": [],
   "source": [
    "x = 3.6\n",
    "type(3.6)"
   ]
  },
  {
   "cell_type": "code",
   "execution_count": null,
   "id": "20e58421-cdc1-44f0-a4f6-aa504cd908d6",
   "metadata": {},
   "outputs": [],
   "source": [
    "x = '3.4'\n",
    "type(x)\n",
    "x.append('2')"
   ]
  },
  {
   "cell_type": "code",
   "execution_count": null,
   "id": "cf36eb8b-4e39-43b9-b170-897e89e5fac0",
   "metadata": {},
   "outputs": [],
   "source": [
    "x = [1,2,3,4]\n",
    "type(x)\n",
    "\n",
    "x.append(20)\n",
    "x"
   ]
  },
  {
   "cell_type": "code",
   "execution_count": null,
   "id": "89ce34c1-da0d-41ba-a36a-5c8b9083cad0",
   "metadata": {},
   "outputs": [],
   "source": [
    "print('maison')\n",
    "\n",
    "len('maison')"
   ]
  },
  {
   "cell_type": "code",
   "execution_count": null,
   "id": "7d57796a-1e52-40ec-8a67-b20f3143e060",
   "metadata": {},
   "outputs": [],
   "source": [
    "x = 3 + False\n",
    "print(x)"
   ]
  },
  {
   "cell_type": "code",
   "execution_count": null,
   "id": "b6677dcd-caa3-4a7c-bc30-97e7313a52f0",
   "metadata": {},
   "outputs": [],
   "source": [
    "3 == 2+2 "
   ]
  },
  {
   "cell_type": "code",
   "execution_count": null,
   "id": "4c9a321f-edbb-4514-ae4b-f0170e85adb2",
   "metadata": {},
   "outputs": [],
   "source": [
    "x = '12'\n",
    "y = 'world'\n",
    "\n",
    "z =x+y\n",
    "\n",
    "print(z)"
   ]
  },
  {
   "cell_type": "code",
   "execution_count": null,
   "id": "c102fd9e-b4aa-414e-8837-5f6dd0b1e292",
   "metadata": {},
   "outputs": [],
   "source": [
    "for number in range(1,10):\n",
    "    print(number)"
   ]
  },
  {
   "cell_type": "markdown",
   "id": "28b4c7aa-81c2-41c4-b108-82e8332a359e",
   "metadata": {},
   "source": [
    "A : Insérer une nouvelle cellule au-dessus de la cellule actuelle.\n",
    "B : Insérer une nouvelle cellule en dessous de la cellule actuelle.\n",
    "D, D (appuyez deux fois sur D) : Supprimer la cellule actuelle.\n",
    "Y : Changer le type de cellule en « Code ».\n",
    "M : Changer le type de cellule en « Markdown ».\n",
    "Flèche haut/bas : Naviguer entre les cellules.\n",
    "Maj + Flèche haut/bas : Sélectionner plusieurs cellules\n",
    "Maj + Entrée : Exécuter la cellule actuelle et passer à la suivante.\n",
    "Entrée : Changer la cellule en mode édition\n",
    "O : Changer la disposition des cellules en mode « Collapse/Expand »\n",
    "L : Activer/désactiver les numéros de ligne\n",
    "Maj + P : Ouvrir le sélecteur de commandes\n",
    "Maj + A : Réorganiser les cellules en haut de la page\n",
    "Maj + B : Réorganiser les cellules en bas de la page\n",
    "Ctrl + Maj + Entrée : Exécuter toutes les cellules\n",
    "%% time\n",
    "restart kernel \n",
    "help(print)"
   ]
  },
  {
   "cell_type": "markdown",
   "id": "114473e7-8825-440d-ae9d-8d34e6ac76ee",
   "metadata": {},
   "source": [
    "### 1) Imprimer des éléments avec Python"
   ]
  },
  {
   "cell_type": "code",
   "execution_count": null,
   "id": "660f2c7d-09c7-4083-9d23-6ffb67e731ef",
   "metadata": {},
   "outputs": [],
   "source": [
    "print('coline')"
   ]
  },
  {
   "cell_type": "markdown",
   "id": "4e59f44d-0bbc-48b0-b32b-a73facac7a71",
   "metadata": {},
   "source": [
    "### 2) Qu'est-ce qu'une variable en Python et quel est son rôle dans le code ?"
   ]
  },
  {
   "cell_type": "markdown",
   "id": "3ca491c8-9267-4b50-94d8-44ccd34af3fb",
   "metadata": {},
   "source": [
    "#### Associer la valeur 10 à x et imprimer la valeur "
   ]
  },
  {
   "cell_type": "code",
   "execution_count": null,
   "id": "86071472-d16e-47ae-b4d4-6f15411038fb",
   "metadata": {},
   "outputs": [],
   "source": [
    "x = 10\n",
    "\n",
    "print(10)"
   ]
  },
  {
   "cell_type": "markdown",
   "id": "301f579d-7056-4012-a352-730db1803479",
   "metadata": {},
   "source": [
    "### 3) Quels types de données peuvent être stockés dans une variable en Python ?"
   ]
  },
  {
   "cell_type": "markdown",
   "id": "e5033263-af36-4ff8-a03a-cadbbe1174ba",
   "metadata": {},
   "source": [
    "#### En utilisant type() - imprimer 4 types de variables "
   ]
  },
  {
   "cell_type": "markdown",
   "id": "f998607a-6833-4f3e-b264-de412c233112",
   "metadata": {
    "jp-MarkdownHeadingCollapsed": true
   },
   "source": [
    "#### Faire une phrase formaté avec un type()"
   ]
  },
  {
   "cell_type": "code",
   "execution_count": null,
   "id": "27dacffb-06b9-4e6f-aa0a-4b1d6fc6dac7",
   "metadata": {},
   "outputs": [],
   "source": [
    "marge_brute = 10\n",
    "\n",
    "print(\"La marge opérationnelle de l'entreprise est :\", marge_brute, \", bonne nouvelle !\")\n",
    "print(f\"La marge brute est de {marge_brute}% du chiffre d'affaires.\")"
   ]
  },
  {
   "cell_type": "markdown",
   "id": "6d16e5b7-2aa1-4e4d-8017-e984f2a86e67",
   "metadata": {
    "jp-MarkdownHeadingCollapsed": true
   },
   "source": [
    "#### Quelle est la différence entre une variable mutable et une variable immuable ? Pouvez-vous donner des exemples de chaque ?"
   ]
  },
  {
   "cell_type": "code",
   "execution_count": null,
   "id": "47da20f8-8f85-4124-9bbe-bc91ea836075",
   "metadata": {},
   "outputs": [],
   "source": [
    "name = 'joseph'\n",
    "name [0] = 'J\"\n",
    "print(name)"
   ]
  },
  {
   "cell_type": "code",
   "execution_count": null,
   "id": "f858dcb4-a04f-4b02-b641-53e7ee833bc3",
   "metadata": {},
   "outputs": [],
   "source": [
    "notes = [1,2,3]\n",
    "notes[0] = 20\n",
    "notes.append(30)\n",
    "print (notes)"
   ]
  },
  {
   "cell_type": "markdown",
   "id": "d7ff2903-f48b-47d5-a100-0568db6fa29d",
   "metadata": {},
   "source": [
    "### 3) Quelles sont les méthodes disponibles pour manipuler et analyser les variables en fonction de leur type ?"
   ]
  },
  {
   "cell_type": "markdown",
   "id": "0e5a7026-6084-45ac-b0c0-86cb1ea611a0",
   "metadata": {},
   "source": [
    "#### Faire des calculs (multiplication) avec Python"
   ]
  },
  {
   "cell_type": "markdown",
   "id": "db6e20ba-146f-495c-8792-9c79226b384c",
   "metadata": {},
   "source": [
    "#### En utilisant len()- Combien il y a t-il de lettres dans \"databird\""
   ]
  },
  {
   "cell_type": "markdown",
   "id": "a0498d17-b12c-4309-9699-9a3193b87734",
   "metadata": {},
   "source": [
    "### 4) Quelle est la fonction des boucles en programmation et quelles sont les différences entre les boucles for et while ?"
   ]
  },
  {
   "cell_type": "markdown",
   "id": "494edf70-5c60-439b-9ad4-539436359a28",
   "metadata": {},
   "source": [
    "#### Comment une boucle for parcourt-elle les éléments d'un itérateur comme une liste ?"
   ]
  },
  {
   "cell_type": "markdown",
   "id": "99a62ce1-55b0-4688-bfb1-158efb2a9499",
   "metadata": {},
   "source": [
    "#### En utilisant for et range() imprimer de chiffres 0 à 15 "
   ]
  },
  {
   "cell_type": "markdown",
   "id": "df6c4329-318f-4b70-8d56-3c28d1b3341b",
   "metadata": {},
   "source": [
    "### 5) Quand devrait-on utiliser une boucle while plutôt qu'une boucle for ?"
   ]
  },
  {
   "cell_type": "code",
   "execution_count": null,
   "id": "97c02ce3-abb1-469d-a006-7639b363f722",
   "metadata": {},
   "outputs": [],
   "source": [
    "# Expliquer cette boucle ?\n",
    "\n",
    "revenus = 0\n",
    "nb_ventes = 0\n",
    "\n",
    "while nb_ventes < 10:\n",
    "    nb_ventes = nb_ventes + 1\n",
    "    print(nb_ventes)\n",
    "    revenus += 10 # équivalent à revenus = revenus + 10\n",
    "\n",
    "print(\"Les revenus sont de : \", revenus, \"€\")"
   ]
  },
  {
   "cell_type": "markdown",
   "id": "a81eb73d-f50e-4670-a68c-e3cda96ce66e",
   "metadata": {},
   "source": [
    "### 6) Condition "
   ]
  },
  {
   "cell_type": "code",
   "execution_count": null,
   "id": "fb7cca5d-3eeb-4f11-9a49-13b783fa583f",
   "metadata": {},
   "outputs": [],
   "source": [
    "for lettre in 'Python':\n",
    "    if lettre == 'h':\n",
    "        break\n",
    "    else:\n",
    "        print(lettre)\n",
    "\n",
    "print('lettre actuelle :', lettre)"
   ]
  },
  {
   "cell_type": "code",
   "execution_count": null,
   "id": "535fd6dc-d77f-4587-9484-b96206340435",
   "metadata": {},
   "outputs": [],
   "source": [
    "for lettre in 'Python':\n",
    "    if lettre == 'h':\n",
    "        continue\n",
    "    else:\n",
    "        print(lettre)\n",
    "\n",
    "print('Lettre actuelle :', lettre)"
   ]
  },
  {
   "cell_type": "code",
   "execution_count": null,
   "id": "6abc9aee-f221-412a-932d-82ec091118bc",
   "metadata": {},
   "outputs": [],
   "source": [
    "for lettre in 'Python': \n",
    "    if lettre == 'h':\n",
    "        pass\n",
    "        \n",
    "    else:\n",
    "        print(lettre)"
   ]
  },
  {
   "cell_type": "markdown",
   "id": "2a94deee-74fa-4e79-9417-dd31989f9ecf",
   "metadata": {},
   "source": [
    "### 7) Fonctions"
   ]
  },
  {
   "cell_type": "markdown",
   "id": "9fdb84d1-67a2-46ff-b123-ef612b1c82c2",
   "metadata": {},
   "source": [
    "#### Citez des fonctions build-in ? "
   ]
  },
  {
   "cell_type": "markdown",
   "id": "156ca728-27ca-4ac9-ae03-a50a2eca6a45",
   "metadata": {},
   "source": [
    "#### Construire une fonction qui multiplie deux nombres entre eux."
   ]
  },
  {
   "cell_type": "code",
   "execution_count": null,
   "id": "6420dbd5-2f83-433e-9fb8-e8e19be95128",
   "metadata": {},
   "outputs": [],
   "source": [
    "def multiplication(x,y):\n",
    "    produit = x*y\n",
    "    return print('le produit de ces deux nombres est de:',produit)\n",
    "\n",
    "multiplication(2,3)"
   ]
  },
  {
   "cell_type": "code",
   "execution_count": null,
   "id": "5264ef87-9ac1-4931-b7ff-056f190dd140",
   "metadata": {},
   "outputs": [],
   "source": []
  }
 ],
 "metadata": {
  "kernelspec": {
   "display_name": "Python 3 (ipykernel)",
   "language": "python",
   "name": "python3"
  },
  "language_info": {
   "codemirror_mode": {
    "name": "ipython",
    "version": 3
   },
   "file_extension": ".py",
   "mimetype": "text/x-python",
   "name": "python",
   "nbconvert_exporter": "python",
   "pygments_lexer": "ipython3",
   "version": "3.12.4"
  }
 },
 "nbformat": 4,
 "nbformat_minor": 5
}
