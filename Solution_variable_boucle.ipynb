{
 "cells": [
  {
   "cell_type": "markdown",
   "metadata": {
    "id": "ZHAfvK5s6mHu"
   },
   "source": [
    "# La grammaire de Python – Solutions"
   ]
  },
  {
   "cell_type": "markdown",
   "metadata": {
    "ExecuteTime": {
     "end_time": "2020-06-07T17:19:27.259741Z",
     "start_time": "2020-06-07T17:19:27.251919Z"
    },
    "id": "WqkKINqn6mHv"
   },
   "source": [
    "Bienvenue dans ce premier notebook d'exercices !\n",
    "\n",
    "Pour tous les exercices, le niveau de difficulté est indiqué par le code suivant :\n",
    "* \\* niveau facile\n",
    "* \\** niveau intermédiaire\n",
    "* \\*** niveau difficile\n",
    "\n",
    "* **@** indique les exercices pour lesquels vous aurez besoin de chercher sur internet pour trouver des pistes de solution ou des exemples de code.\n",
    "\n",
    "ATTENTION : NE RESTEZ PAS BLOQUES PLUS DE 15 MIN SUR UN EXERCICE !\n",
    "\n",
    "_Note : Pour faciliter la navigation dans les exercices, n'hésitez pas à activer l'extension \"Table of Contents\", après avoir installé les extensions de notebook `jupyter_contrib_nbextensions` (voir PDF sur la plateforme)._\n",
    "\n",
    "_Sources : https://www.w3resource.com/python-exercises,\n",
    "          http://swcarpentry.github.io/python-novice-gapminder, Paul-Emile Dugnat, Thomas de Mareuil._"
   ]
  },
  {
   "cell_type": "markdown",
   "metadata": {
    "id": "gKyUSvOn6mHw"
   },
   "source": [
    "## Jour 1 : Variables"
   ]
  },
  {
   "cell_type": "markdown",
   "metadata": {
    "id": "3eGHWCDZ6mHw"
   },
   "source": [
    "### Exercice 1 - Exécution progressive (*)"
   ]
  },
  {
   "cell_type": "markdown",
   "metadata": {
    "id": "UUqzCdYE6mHw"
   },
   "source": [
    "Remplir les blancs ci-dessous avec la valeur que prend chaque variable à chaque ligne."
   ]
  },
  {
   "cell_type": "code",
   "execution_count": 7,
   "metadata": {
    "ExecuteTime": {
     "end_time": "2021-09-13T16:48:27.914314Z",
     "start_time": "2021-09-13T16:48:27.896864Z"
    },
    "id": "JC7Yj1ne6mHw"
   },
   "outputs": [],
   "source": [
    "# Commande  # Valeur de x   # Valeur de y   # Valeur de swap #\n",
    "x = 1.0    #     1.0      #    non déf   #     non def   #\n",
    "y = 3.0    #     1.0      #     3.0      #     non def   #\n",
    "swap = x   #     1.0      #     3.0      #     1.0       #\n",
    "x = y      #     3.0      #     3.0      #     1.0       #\n",
    "y = swap   #     3.0      #     1.0      #     1.0       #"
   ]
  },
  {
   "cell_type": "markdown",
   "metadata": {
    "id": "dpprE2Qx6mHx"
   },
   "source": [
    "### Exercice 2 - Changement de variables (*)"
   ]
  },
  {
   "cell_type": "markdown",
   "metadata": {
    "id": "ww5UPJsh6mHx"
   },
   "source": [
    "Sans faire tourner le programme, essayer de deviner quelle est la valeur finale de la variable `position`."
   ]
  },
  {
   "cell_type": "code",
   "execution_count": 8,
   "metadata": {
    "ExecuteTime": {
     "end_time": "2021-09-13T16:50:02.189218Z",
     "start_time": "2021-09-13T16:50:02.116720Z"
    },
    "id": "FtleabV26mHx"
   },
   "outputs": [],
   "source": [
    "initial = 'left'\n",
    "position = initial\n",
    "initial = 'right'"
   ]
  },
  {
   "cell_type": "code",
   "execution_count": 9,
   "metadata": {
    "ExecuteTime": {
     "end_time": "2021-09-13T16:50:02.779156Z",
     "start_time": "2021-09-13T16:50:02.744156Z"
    },
    "id": "XotqsrWk6mHx"
   },
   "outputs": [
    {
     "data": {
      "text/plain": [
       "'left'"
      ]
     },
     "execution_count": 9,
     "metadata": {},
     "output_type": "execute_result"
    }
   ],
   "source": [
    "position"
   ]
  },
  {
   "cell_type": "markdown",
   "metadata": {
    "id": "OHWKjnzO6mHx"
   },
   "source": [
    "SOLUTION : Position vaudra encore `left`."
   ]
  },
  {
   "cell_type": "markdown",
   "metadata": {
    "id": "-Q8I8TTX6mHx"
   },
   "source": [
    "### Exercice 3 - Nommer ses variables (*)"
   ]
  },
  {
   "cell_type": "markdown",
   "metadata": {
    "id": "8Uaaxfia6mHx"
   },
   "source": [
    "Quelle est la meilleure façon de nommer une variable pour compter les minutes ? m, min ou minutes ? Pourquoi ?\n",
    "\n",
    "* `ts = m * 60 + s`\n",
    "* `tot_sec = min * 60 + sec`\n",
    "* `total_seconds = minutes * 60 + seconds`"
   ]
  },
  {
   "cell_type": "markdown",
   "metadata": {
    "id": "3_VclRU36mHx"
   },
   "source": [
    "SOLUTION : la meilleure solution est la troisième car les noms de variables sont plus explicites."
   ]
  },
  {
   "cell_type": "markdown",
   "metadata": {
    "id": "lhKHl4416mHy"
   },
   "source": [
    "### Exercice 4 - Reconnaître les types (*)\n",
    "\n",
    "Quel est le type de valeur de `3.4` ? Comment faire pour le vérifier ?\n",
    "Même question pour `-1`, `True`et `0.`?"
   ]
  },
  {
   "cell_type": "code",
   "execution_count": 10,
   "metadata": {
    "ExecuteTime": {
     "end_time": "2021-09-13T16:51:46.100084Z",
     "start_time": "2021-09-13T16:51:45.976593Z"
    },
    "id": "652azscH6mHy"
   },
   "outputs": [
    {
     "name": "stdout",
     "output_type": "stream",
     "text": [
      "<class 'float'> <class 'int'> <class 'bool'> <class 'float'>\n"
     ]
    }
   ],
   "source": [
    "print(type(3.4), type(-1), type(True), type(0.))"
   ]
  },
  {
   "cell_type": "code",
   "execution_count": 11,
   "metadata": {
    "ExecuteTime": {
     "end_time": "2021-09-13T16:52:38.272843Z",
     "start_time": "2021-09-13T16:52:38.217107Z"
    },
    "id": "LeI-4EGd6mHy",
    "scrolled": true
   },
   "outputs": [
    {
     "name": "stdout",
     "output_type": "stream",
     "text": [
      "3.4   <class 'float'>\n",
      "True   <class 'bool'>\n",
      "-1   <class 'int'>\n",
      "0.0   <class 'float'>\n"
     ]
    }
   ],
   "source": [
    "my_list = [3.4, True, -1, 0.]\n",
    "\n",
    "for item in my_list:\n",
    "    print(item, ' ', type(item))"
   ]
  },
  {
   "cell_type": "markdown",
   "metadata": {
    "id": "ii3FD_eY6mHy"
   },
   "source": [
    "### Exercice 5 - Deviner les types (*)\n",
    "\n",
    "Déterminer le type de valeur de :\n",
    "* 3.25 + 4 : `float`\n",
    "* 12 + 'DataBird' : TypeError : can't add int and str\n",
    "* 4.5 + True : `float` car True est assimilé à 1\n"
   ]
  },
  {
   "cell_type": "code",
   "execution_count": 12,
   "metadata": {
    "ExecuteTime": {
     "end_time": "2021-09-13T16:53:18.295205Z",
     "start_time": "2021-09-13T16:53:18.206468Z"
    },
    "id": "Y9qCKVFA6mHy",
    "scrolled": true
   },
   "outputs": [],
   "source": [
    "#12 + 'DataBird'   #Ne fonctionne pas car pas possible d'additionner un str et un int ou float"
   ]
  },
  {
   "cell_type": "code",
   "execution_count": 13,
   "metadata": {
    "ExecuteTime": {
     "end_time": "2021-09-13T16:53:46.869514Z",
     "start_time": "2021-09-13T16:53:46.833739Z"
    },
    "id": "82C0VL056mHy"
   },
   "outputs": [
    {
     "data": {
      "text/plain": [
       "5.5"
      ]
     },
     "execution_count": 13,
     "metadata": {},
     "output_type": "execute_result"
    }
   ],
   "source": [
    "a = 4.5 + True\n",
    "a"
   ]
  },
  {
   "cell_type": "code",
   "execution_count": 14,
   "metadata": {
    "ExecuteTime": {
     "end_time": "2021-09-13T16:53:53.731947Z",
     "start_time": "2021-09-13T16:53:53.698102Z"
    },
    "id": "PnbNUI-z6mHy"
   },
   "outputs": [
    {
     "data": {
      "text/plain": [
       "float"
      ]
     },
     "execution_count": 14,
     "metadata": {},
     "output_type": "execute_result"
    }
   ],
   "source": [
    "type(4.5 + True)"
   ]
  },
  {
   "cell_type": "markdown",
   "metadata": {
    "id": "3dMwnW0r6mHy"
   },
   "source": [
    "### Bonus : Exercice 6 - Quel type est le meilleur ? (*)\n",
    "Quel type de variables (`int`, `float`, `str`) préfèrera-t-on utiliser pour représenter les éléments suivants ?\n",
    "\n",
    "* Nombre de jours depuis le début de l'année : `int`\n",
    "* Temps écoulé depuis le début de l'année exprimé en jours : `int`/`float`\n",
    "* Le numéro de série d'une pièce : `str`\n",
    "* Le coût d'abonneemnt à un nouveau logiciel : `float`\n",
    "* Le turnover de son entreprise : `int`/`float`\n",
    "* L'EBITDA de son entreprise : `float`"
   ]
  },
  {
   "cell_type": "markdown",
   "metadata": {
    "id": "Goig3KZF6mHz"
   },
   "source": [
    "### Exercice 7 - Convertir une chaîne de caractères (**)\n",
    "\n",
    "Pourquoi l'expression suivante ne fonctionne-t-elle pas ?\n",
    "\n",
    "> `print(\"fractional string to int:\", int(\"3.4\"))`\n",
    "\n",
    "Corrigez-la !"
   ]
  },
  {
   "cell_type": "code",
   "execution_count": 15,
   "metadata": {
    "ExecuteTime": {
     "end_time": "2021-09-13T16:57:04.307685Z",
     "start_time": "2021-09-13T16:57:04.279038Z"
    },
    "id": "jeMu4cXd6mHz"
   },
   "outputs": [
    {
     "name": "stdout",
     "output_type": "stream",
     "text": [
      "fractional string to int: 3\n",
      "fractional string to int: 3\n",
      "fractional string to int: 3.4\n",
      "fractional string to int: 3\n"
     ]
    }
   ],
   "source": [
    "print(\"fractional string to int:\", int(\"3\"))\n",
    "print(\"fractional string to int:\", int(3.4))\n",
    "print(\"fractional string to int:\", float(\"3.4\"))\n",
    "print(\"fractional string to int:\", int(float(\"3.4\")))"
   ]
  },
  {
   "cell_type": "markdown",
   "metadata": {
    "id": "G8WIWguj6mHz"
   },
   "source": [
    "### Exercice 8 - Les priorités d'opérations (**)\n",
    "\n",
    "En appliquant l'ordre des opérations, essayez de deviner la valeur finale de `radiance` sans faire tourner le programme (puis vérifiez !).\n",
    "\n",
    "\n",
    "> `radiance = 1.0\n",
    "radiance = max(2.1, 2.0 + min(radiance, 1.1 * radiance - 0.5))`"
   ]
  },
  {
   "cell_type": "code",
   "execution_count": 16,
   "metadata": {
    "ExecuteTime": {
     "end_time": "2021-09-13T16:58:22.822757Z",
     "start_time": "2021-09-13T16:58:22.788350Z"
    },
    "id": "S5sLwhq26mHz"
   },
   "outputs": [],
   "source": [
    "radiance = 1.0\n",
    "radiance = max(2.1, 2.0 + min(radiance, 1.1 * radiance - 0.5))"
   ]
  },
  {
   "cell_type": "code",
   "execution_count": 17,
   "metadata": {
    "ExecuteTime": {
     "end_time": "2021-09-13T16:58:24.053739Z",
     "start_time": "2021-09-13T16:58:24.026782Z"
    },
    "id": "kMcIb0Nv6mHz"
   },
   "outputs": [
    {
     "data": {
      "text/plain": [
       "2.6"
      ]
     },
     "execution_count": 17,
     "metadata": {},
     "output_type": "execute_result"
    }
   ],
   "source": [
    "radiance"
   ]
  },
  {
   "cell_type": "markdown",
   "metadata": {
    "id": "kLMfgvGm6mHz"
   },
   "source": [
    "## Jour 1 : Boucles"
   ]
  },
  {
   "cell_type": "markdown",
   "metadata": {
    "id": "OkSMRJ4a6mHz"
   },
   "source": [
    "### Exercice 1 - Identifier les erreurs (**)\n",
    "Lire le code pour identifier les erreurs sans avoir besoin de l'éxécuter, puis le corriger. Le résultat final doit être : `abbabbabba`.\n",
    "\n",
    "*Indice: Runner le script et corriger les erreurs ennoncées dans le message d'erreur.*\n",
    "\n"
   ]
  },
  {
   "cell_type": "code",
   "execution_count": 18,
   "metadata": {
    "ExecuteTime": {
     "end_time": "2021-09-13T17:04:28.992464Z",
     "start_time": "2021-09-13T17:04:28.949284Z"
    },
    "id": "Yw9CkmHZ6mH0"
   },
   "outputs": [
    {
     "data": {
      "text/plain": [
       "True"
      ]
     },
     "execution_count": 18,
     "metadata": {},
     "output_type": "execute_result"
    }
   ],
   "source": [
    "12 % 3 == 0"
   ]
  },
  {
   "cell_type": "code",
   "execution_count": 19,
   "metadata": {
    "id": "4AaKfsTn6mH0"
   },
   "outputs": [
    {
     "ename": "NameError",
     "evalue": "name 'nb' is not defined",
     "output_type": "error",
     "traceback": [
      "\u001b[0;31m---------------------------------------------------------------------------\u001b[0m",
      "\u001b[0;31mNameError\u001b[0m                                 Traceback (most recent call last)",
      "Cell \u001b[0;32mIn[19], line 6\u001b[0m\n\u001b[1;32m      3\u001b[0m message \u001b[38;5;241m=\u001b[39m \u001b[38;5;124m\"\u001b[39m\u001b[38;5;124m\"\u001b[39m\n\u001b[1;32m      4\u001b[0m \u001b[38;5;28;01mfor\u001b[39;00m number \u001b[38;5;129;01min\u001b[39;00m \u001b[38;5;28mrange\u001b[39m(\u001b[38;5;241m10\u001b[39m):\n\u001b[1;32m      5\u001b[0m     \u001b[38;5;66;03m# utilise \"a\" si le nombre est un multiple de 3, autrement utilise \"b\"\u001b[39;00m\n\u001b[0;32m----> 6\u001b[0m     \u001b[38;5;28;01mif\u001b[39;00m (\u001b[43mnb\u001b[49m \u001b[38;5;241m%\u001b[39m \u001b[38;5;241m3\u001b[39m) \u001b[38;5;241m==\u001b[39m \u001b[38;5;241m0\u001b[39m:\n\u001b[1;32m      7\u001b[0m         message \u001b[38;5;241m=\u001b[39m message \u001b[38;5;241m+\u001b[39m \u001b[38;5;124m\"\u001b[39m\u001b[38;5;124ma\u001b[39m\u001b[38;5;124m\"\u001b[39m\n\u001b[1;32m      8\u001b[0m     \u001b[38;5;28;01melse\u001b[39;00m:\n",
      "\u001b[0;31mNameError\u001b[0m: name 'nb' is not defined"
     ]
    }
   ],
   "source": [
    "# Enoncé\n",
    "\n",
    "message = \"\"\n",
    "for number in range(10):\n",
    "    # utilise \"a\" si le nombre est un multiple de 3, autrement utilise \"b\"\n",
    "    if (nb % 3) == 0:\n",
    "        message = message + \"a\"\n",
    "    else:\n",
    "        message += \"b\"\n",
    "print(message)"
   ]
  },
  {
   "cell_type": "code",
   "execution_count": 20,
   "metadata": {
    "ExecuteTime": {
     "end_time": "2021-09-10T15:12:16.613702Z",
     "start_time": "2021-09-10T15:12:16.591381Z"
    },
    "id": "WLTFsHOQ6mH0"
   },
   "outputs": [
    {
     "name": "stdout",
     "output_type": "stream",
     "text": [
      "abbabbabba\n"
     ]
    }
   ],
   "source": [
    "# Solution\n",
    "\n",
    "message = \"\"\n",
    "\n",
    "for number in range(10):\n",
    "    # utilise \"a\" si le nombre est un multiple de 3, autrement utilise \"b\"\n",
    "    if (number % 3) == 0:\n",
    "        message = message + \"a\"\n",
    "    else:\n",
    "        message += \"b\"\n",
    "        \n",
    "print(message)"
   ]
  },
  {
   "cell_type": "markdown",
   "metadata": {
    "id": "jQeVyMEs6mH0"
   },
   "source": [
    "### Exercice 2 – Compléter les boucles (**)\n",
    "Compléter les cellules suivantes pour afficher le résultat attendu."
   ]
  },
  {
   "cell_type": "code",
   "execution_count": 21,
   "metadata": {
    "ExecuteTime": {
     "end_time": "2021-09-13T17:08:05.902749Z",
     "start_time": "2021-09-13T17:08:05.889783Z"
    },
    "id": "77OW0vQa6mH0"
   },
   "outputs": [
    {
     "name": "stdout",
     "output_type": "stream",
     "text": [
      "3\n",
      "8\n",
      "12\n",
      "Résultat final 12\n"
     ]
    }
   ],
   "source": [
    "# Longeur totale des caractères de la liste : [\"red\", \"green\", \"blue\"] => 12\n",
    "total = 0 #Instanciation à 0 car on veut partir de 0\n",
    "\n",
    "for x in [\"red\", \"green\", \"blue\"]:\n",
    "    total = total + len(x)\n",
    "    print(total) #Ici indenté, pour afficher à chaque itération\n",
    "    \n",
    "print(\"Résultat final\", total) #Pour afficher une fois la boucle terminée"
   ]
  },
  {
   "cell_type": "code",
   "execution_count": 22,
   "metadata": {
    "ExecuteTime": {
     "end_time": "2021-09-13T17:08:50.865187Z",
     "start_time": "2021-09-13T17:08:50.811232Z"
    },
    "id": "DDxdUwsN6mH0"
   },
   "outputs": [
    {
     "name": "stdout",
     "output_type": "stream",
     "text": [
      "red\n",
      "redgreen\n",
      "redgreenblue\n",
      "Résultat final redgreenblue\n"
     ]
    }
   ],
   "source": [
    "# Concaténer les mots de la liste : [\"red\", \"green\", \"blue\"] => \"redgreenblue\"\n",
    "words = [\"red\", \"green\", \"blue\"]\n",
    "result = \"\" # str() #Instanciation d'une chaine de caractère vide car on veut rien à la base\n",
    "\n",
    "\n",
    "for w in words:\n",
    "    result += w #Ou alors total = total + len(w)\n",
    "    print(result) #Ici indenté, pour afficher à chaque itération\n",
    "    \n",
    "print(\"Résultat final\", result) #Pour afficher une fois la boucle terminée"
   ]
  },
  {
   "cell_type": "code",
   "execution_count": 23,
   "metadata": {
    "ExecuteTime": {
     "end_time": "2021-09-13T17:10:10.829712Z",
     "start_time": "2021-09-13T17:10:10.790382Z"
    },
    "id": "e4zXKYBw6mH0"
   },
   "outputs": [
    {
     "name": "stdout",
     "output_type": "stream",
     "text": [
      "[3]\n",
      "[3, 5]\n",
      "[3, 5, 4]\n"
     ]
    }
   ],
   "source": [
    "# Liste des longueurs respectives des mots : [\"red\", \"green\", \"blue\"] => [3, 5, 4]\n",
    "lengths = [] # list() #Instanciation d'une chaine de caractère vide car on veut une liste vide\n",
    "\n",
    "\n",
    "for word in [\"red\", \"green\", \"blue\"]:\n",
    "    lengths.append(len(word))  #La méthode append permet d'ajouter une valeur à une liste\n",
    "    print(lengths)"
   ]
  },
  {
   "cell_type": "markdown",
   "metadata": {
    "id": "NmbRYbfP6mH1"
   },
   "source": [
    "### Bonus : Exercice 3 - Réordonner une boucle (***)\n",
    "Réordonner et indenter proprement les lignes de code afin que le programme affiche une liste avec les sommes cumulées des données de la liste \"data\".\n",
    "Le résultat attendu est `[1, 3, 5, 10]`"
   ]
  },
  {
   "cell_type": "code",
   "execution_count": 24,
   "metadata": {
    "id": "ysAPECHI6mH1"
   },
   "outputs": [
    {
     "ename": "IndentationError",
     "evalue": "expected an indented block (309794073.py, line 5)",
     "output_type": "error",
     "traceback": [
      "\u001b[0;36m  Cell \u001b[0;32mIn[24], line 5\u001b[0;36m\u001b[0m\n\u001b[0;31m    cumulative = []\u001b[0m\n\u001b[0m    ^\u001b[0m\n\u001b[0;31mIndentationError\u001b[0m\u001b[0;31m:\u001b[0m expected an indented block\n"
     ]
    }
   ],
   "source": [
    "# Enoncé\n",
    "\n",
    "cumulative.append(sum)\n",
    "for number in data:\n",
    "cumulative = []\n",
    "sum += number\n",
    "sum = 0\n",
    "print(cumulative)\n",
    "data = [1, 2, 2, 5]"
   ]
  },
  {
   "cell_type": "code",
   "execution_count": 25,
   "metadata": {
    "ExecuteTime": {
     "end_time": "2021-09-13T17:12:07.637379Z",
     "start_time": "2021-09-13T17:12:07.609993Z"
    },
    "id": "LKTh7pMS6mH1"
   },
   "outputs": [
    {
     "name": "stdout",
     "output_type": "stream",
     "text": [
      "[1, 3, 5, 10]\n",
      "10\n"
     ]
    }
   ],
   "source": [
    "# Solution\n",
    "\n",
    "data = [1, 2, 2, 5]\n",
    "cumulative = []\n",
    "somme = 0\n",
    "\n",
    "for number in data:\n",
    "    somme = somme + number\n",
    "    cumulative.append(somme)\n",
    "\n",
    "print(cumulative)\n",
    "print(somme)"
   ]
  },
  {
   "cell_type": "markdown",
   "metadata": {
    "id": "OYj4_uGr6mH1"
   },
   "source": [
    "### Bonus: Exercice 4 - Renverser une chaîne de caractères (***)\n",
    "\n",
    "Compléter le programme suivant pour qu'il affiche \"atad\" au lieu de \"data\"."
   ]
  },
  {
   "cell_type": "code",
   "execution_count": 26,
   "metadata": {
    "id": "Xag6XqVt6mH1"
   },
   "outputs": [
    {
     "ename": "NameError",
     "evalue": "name '____' is not defined",
     "output_type": "error",
     "traceback": [
      "\u001b[0;31m---------------------------------------------------------------------------\u001b[0m",
      "\u001b[0;31mNameError\u001b[0m                                 Traceback (most recent call last)",
      "Cell \u001b[0;32mIn[26], line 4\u001b[0m\n\u001b[1;32m      1\u001b[0m \u001b[38;5;66;03m# Enoncé\u001b[39;00m\n\u001b[1;32m      3\u001b[0m original \u001b[38;5;241m=\u001b[39m \u001b[38;5;124m\"\u001b[39m\u001b[38;5;124mdata\u001b[39m\u001b[38;5;124m\"\u001b[39m\n\u001b[0;32m----> 4\u001b[0m result \u001b[38;5;241m=\u001b[39m \u001b[43m____\u001b[49m\n\u001b[1;32m      5\u001b[0m \u001b[38;5;28;01mfor\u001b[39;00m char \u001b[38;5;129;01min\u001b[39;00m original:\n\u001b[1;32m      6\u001b[0m     result \u001b[38;5;241m=\u001b[39m ____\n",
      "\u001b[0;31mNameError\u001b[0m: name '____' is not defined"
     ]
    }
   ],
   "source": [
    "# Enoncé\n",
    "\n",
    "original = \"data\"\n",
    "result = ____\n",
    "for char in original:\n",
    "    result = ____\n",
    "print(result)"
   ]
  },
  {
   "cell_type": "code",
   "execution_count": 5,
   "metadata": {
    "ExecuteTime": {
     "end_time": "2021-04-09T15:32:52.986850Z",
     "start_time": "2021-04-09T15:32:52.980208Z"
    },
    "id": "U9SsARzc6mH1"
   },
   "outputs": [
    {
     "name": "stdout",
     "output_type": "stream",
     "text": [
      "d\n",
      "ad\n",
      "tad\n",
      "atad\n",
      "atad\n",
      "atad\n"
     ]
    }
   ],
   "source": [
    "# Solution\n",
    "\n",
    "original = \"data\"\n",
    "\n",
    "result = \"\"\n",
    "for element in original:\n",
    "    result = element + result #Utilisation de += est possible\n",
    "    print(result)\n",
    "print(result)\n"
   ]
  },
  {
   "cell_type": "markdown",
   "metadata": {
    "id": "F75Zf7nH6mH1"
   },
   "source": [
    "## Jour 2 : Conditions"
   ]
  },
  {
   "cell_type": "markdown",
   "metadata": {
    "id": "cpdNwiqX6mH1"
   },
   "source": [
    "### Exercice 1 - Catégoriser (**)\n",
    "Compléter le programme afin qu'il crée une nouvelle liste qui contient :\n",
    "* des zéros à la place de valeurs négatives\n",
    "* des 1 à la place des valeurs positives"
   ]
  },
  {
   "cell_type": "code",
   "execution_count": 28,
   "metadata": {
    "ExecuteTime": {
     "end_time": "2021-09-10T15:14:44.276812Z",
     "start_time": "2021-09-10T15:14:44.229317Z"
    },
    "id": "Y1vW-OZW6mH2"
   },
   "outputs": [
    {
     "ename": "NameError",
     "evalue": "name '____' is not defined",
     "output_type": "error",
     "traceback": [
      "\u001b[0;31m---------------------------------------------------------------------------\u001b[0m",
      "\u001b[0;31mNameError\u001b[0m                                 Traceback (most recent call last)",
      "Cell \u001b[0;32mIn[28], line 4\u001b[0m\n\u001b[1;32m      1\u001b[0m \u001b[38;5;66;03m# Enoncé\u001b[39;00m\n\u001b[1;32m      3\u001b[0m original \u001b[38;5;241m=\u001b[39m [\u001b[38;5;241m-\u001b[39m\u001b[38;5;241m1.5\u001b[39m, \u001b[38;5;241m0.2\u001b[39m, \u001b[38;5;241m0.4\u001b[39m, \u001b[38;5;241m0.0\u001b[39m, \u001b[38;5;241m-\u001b[39m\u001b[38;5;241m1.3\u001b[39m, \u001b[38;5;241m0.4\u001b[39m]\n\u001b[0;32m----> 4\u001b[0m result \u001b[38;5;241m=\u001b[39m \u001b[43m____\u001b[49m\n\u001b[1;32m      5\u001b[0m \u001b[38;5;28;01mfor\u001b[39;00m value \u001b[38;5;129;01min\u001b[39;00m original:\n\u001b[1;32m      6\u001b[0m     \u001b[38;5;28;01mif\u001b[39;00m ____:\n",
      "\u001b[0;31mNameError\u001b[0m: name '____' is not defined"
     ]
    }
   ],
   "source": [
    "# Enoncé\n",
    "\n",
    "original = [-1.5, 0.2, 0.4, 0.0, -1.3, 0.4]\n",
    "result = ____\n",
    "for value in original:\n",
    "    if ____:\n",
    "        result.append(0)\n",
    "    else:\n",
    "        ____\n",
    "print(result)"
   ]
  },
  {
   "cell_type": "code",
   "execution_count": 29,
   "metadata": {
    "ExecuteTime": {
     "end_time": "2021-09-13T17:16:54.121886Z",
     "start_time": "2021-09-13T17:16:54.071540Z"
    },
    "id": "IrtfiJfi6mH2"
   },
   "outputs": [
    {
     "name": "stdout",
     "output_type": "stream",
     "text": [
      "[0]\n",
      "[0, 1]\n",
      "[0, 1, 1]\n",
      "[0, 1, 1, 1]\n",
      "[0, 1, 1, 1, 0]\n",
      "[0, 1, 1, 1, 0, 1]\n",
      "[0, 1, 1, 1, 0, 1]\n"
     ]
    }
   ],
   "source": [
    "# Solution\n",
    "\n",
    "original = [-1.5, 0.2, 0.4, 0.0, -1.3, 0.4]\n",
    "\n",
    "result = []\n",
    "\n",
    "for value in original:\n",
    "    if value < 0:\n",
    "        result.append(0)\n",
    "    else:\n",
    "        result.append(1)\n",
    "\n",
    "    print(result)\n",
    "\n",
    "print(result)"
   ]
  },
  {
   "cell_type": "markdown",
   "metadata": {
    "id": "lp1H7kDy6mH2"
   },
   "source": [
    "### Exercice 2 - Minimum et maximum d'une liste (**)\n",
    "\n",
    "Compléter ce programme pour qu'il renvoie le minimum et le maximum de la liste de départ.\n",
    "\n",
    "_Note : Cette opération peut être effectué plus simplement par les fonctions min et max, mais l'objectif ici est de le faire de façon itérative, grâce à une boucle._"
   ]
  },
  {
   "cell_type": "code",
   "execution_count": 30,
   "metadata": {
    "id": "t2lSFpSV6mH2"
   },
   "outputs": [
    {
     "ename": "NameError",
     "evalue": "name '____' is not defined",
     "output_type": "error",
     "traceback": [
      "\u001b[0;31m---------------------------------------------------------------------------\u001b[0m",
      "\u001b[0;31mNameError\u001b[0m                                 Traceback (most recent call last)",
      "Cell \u001b[0;32mIn[30], line 8\u001b[0m\n\u001b[1;32m      6\u001b[0m largest \u001b[38;5;241m=\u001b[39m \u001b[38;5;241m0\u001b[39m\n\u001b[1;32m      7\u001b[0m \u001b[38;5;28;01mfor\u001b[39;00m v \u001b[38;5;129;01min\u001b[39;00m values:\n\u001b[0;32m----> 8\u001b[0m     smallest \u001b[38;5;241m=\u001b[39m \u001b[38;5;28mmin\u001b[39m(\u001b[43m____\u001b[49m, v)\n\u001b[1;32m      9\u001b[0m     largest \u001b[38;5;241m=\u001b[39m \u001b[38;5;28mmax\u001b[39m(____, v)\n\u001b[1;32m     10\u001b[0m \u001b[38;5;28mprint\u001b[39m(smallest, largest)\n",
      "\u001b[0;31mNameError\u001b[0m: name '____' is not defined"
     ]
    }
   ],
   "source": [
    "# Enoncé\n",
    "\n",
    "values = [0, 2, -10, -3, 3, 6, 8, -1]\n",
    "\n",
    "smallest = 0\n",
    "largest = 0\n",
    "for v in values:\n",
    "    smallest = min(____, v)\n",
    "    largest = max(____, v)\n",
    "print(smallest, largest)"
   ]
  },
  {
   "cell_type": "code",
   "execution_count": 31,
   "metadata": {
    "ExecuteTime": {
     "end_time": "2021-09-13T17:19:44.968048Z",
     "start_time": "2021-09-13T17:19:44.874706Z"
    },
    "id": "i9yLs_Dw6mH2"
   },
   "outputs": [
    {
     "name": "stdout",
     "output_type": "stream",
     "text": [
      "-10 8\n"
     ]
    }
   ],
   "source": [
    "# Solution\n",
    "\n",
    "values = [0, 2, -10, -3, 3, 6, 8, -1]\n",
    "\n",
    "smallest = 0\n",
    "largest = 0\n",
    "\n",
    "for v in values:\n",
    "    smallest = min(smallest, v)\n",
    "    largest = max(largest, v)\n",
    "print(smallest, largest)"
   ]
  },
  {
   "cell_type": "code",
   "execution_count": 32,
   "metadata": {
    "ExecuteTime": {
     "end_time": "2021-09-13T17:19:49.335296Z",
     "start_time": "2021-09-13T17:19:49.275802Z"
    },
    "id": "klCWHAjN6mH2"
   },
   "outputs": [
    {
     "data": {
      "text/plain": [
       "(-10, 8)"
      ]
     },
     "execution_count": 32,
     "metadata": {},
     "output_type": "execute_result"
    }
   ],
   "source": [
    "min(values), max(values)"
   ]
  },
  {
   "cell_type": "markdown",
   "metadata": {
    "id": "XbOqKI-96mH2"
   },
   "source": [
    "### Bonus: Exercice 3 – Des chiffres et des lettres ? (**, @)\n",
    "Ecrire un programme qui reçoit une chaîne de caractères et calcule le nombre de chiffres et de lettres au sein de cette dernière.\n",
    "\n",
    "_Indice : vous aurez sans doute besoin de nouvelles string methods : .isalpha & isnumeric .__"
   ]
  },
  {
   "cell_type": "code",
   "execution_count": 33,
   "metadata": {
    "ExecuteTime": {
     "end_time": "2021-09-13T17:22:51.669582Z",
     "start_time": "2021-09-13T17:22:51.663737Z"
    },
    "id": "4xIUC1hj6mH2"
   },
   "outputs": [],
   "source": [
    "test_string = 'Python 3.8'"
   ]
  },
  {
   "cell_type": "code",
   "execution_count": 34,
   "metadata": {
    "ExecuteTime": {
     "end_time": "2021-09-13T17:23:12.709366Z",
     "start_time": "2021-09-13T17:23:12.679631Z"
    },
    "id": "6u62WEj56mH3"
   },
   "outputs": [
    {
     "name": "stdout",
     "output_type": "stream",
     "text": [
      "1\n",
      "2\n",
      "3\n",
      "4\n",
      "5\n",
      "6\n",
      "6\n",
      "6\n",
      "6\n",
      "6\n",
      "2 6\n",
      "6 2 2\n"
     ]
    }
   ],
   "source": [
    "num_lettres = 0\n",
    "num_chiffres = 0\n",
    "\n",
    "for char in test_string:\n",
    "    if char.isalpha(): \n",
    "        num_lettres = num_lettres + 1 #On ajoute 1 si c'est une lettre\n",
    "    if char.isnumeric():\n",
    "        num_chiffres += 1 #On ajoute 1 si c'est un chiffre\n",
    "    print(num_lettres)\n",
    "\n",
    "print(num_chiffres, num_lettres)\n",
    "\n",
    "\n",
    "\n",
    "#Pour avoir tout ce qui est autres que lettre ou numérique \n",
    "\n",
    "count_alpha = 0\n",
    "count_num = 0\n",
    "count_autre = 0\n",
    "\n",
    "for x in test_string:\n",
    "    if x.isalpha():\n",
    "        count_alpha += 1 #On ajoute 1 si c'est une lettre\n",
    "    elif x.isnumeric():\n",
    "        count_num += 1 #On ajoute 1 si c'est un chiffre\n",
    "    else:\n",
    "        count_autre = count_autre + 1 #On ajoute 1 si c'est ni une lettre, ni un chiffre\n",
    "\n",
    "print(count_alpha, count_num, count_autre)"
   ]
  },
  {
   "cell_type": "markdown",
   "metadata": {
    "id": "oJ5C5_i26mH3"
   },
   "source": [
    "### Bonus: Exercice 4 - Médiane (**)\n",
    "Ecrire une fonction permettant de trouver la médiane d'une liste de 3 valeurs.\n",
    "\n",
    "_Indice : vous aurez sans doute besoin d'une boucle et des fonctions min et max._"
   ]
  },
  {
   "cell_type": "code",
   "execution_count": 35,
   "metadata": {
    "ExecuteTime": {
     "end_time": "2021-09-13T17:23:40.502816Z",
     "start_time": "2021-09-13T17:23:40.466877Z"
    },
    "id": "3v_me8ii6mH3"
   },
   "outputs": [],
   "source": [
    "numbers = [9, 6, 4]"
   ]
  },
  {
   "cell_type": "code",
   "execution_count": 36,
   "metadata": {
    "ExecuteTime": {
     "end_time": "2021-09-13T17:25:30.610576Z",
     "start_time": "2021-09-13T17:25:30.516242Z"
    },
    "id": "XYkaRP8G6mH3"
   },
   "outputs": [],
   "source": [
    "def median_three(list_nb):\n",
    "    for n in list_nb:\n",
    "        if n != min(list_nb) and n != max(list_nb):\n",
    "            print('Trouvé')\n",
    "            return n\n",
    "        else:\n",
    "            print('Pas encore trouvé')"
   ]
  },
  {
   "cell_type": "code",
   "execution_count": 37,
   "metadata": {
    "ExecuteTime": {
     "end_time": "2021-09-13T17:26:06.854655Z",
     "start_time": "2021-09-13T17:26:06.803419Z"
    },
    "id": "-B_3knDz6mH3"
   },
   "outputs": [
    {
     "name": "stdout",
     "output_type": "stream",
     "text": [
      "Pas encore trouvé\n",
      "Trouvé\n"
     ]
    },
    {
     "data": {
      "text/plain": [
       "6"
      ]
     },
     "execution_count": 37,
     "metadata": {},
     "output_type": "execute_result"
    }
   ],
   "source": [
    "result = median_three(numbers)\n",
    "result"
   ]
  },
  {
   "cell_type": "code",
   "execution_count": 9,
   "metadata": {},
   "outputs": [
    {
     "name": "stdout",
     "output_type": "stream",
     "text": [
      "6\n"
     ]
    }
   ],
   "source": [
    "#Solution de Stephane mais qui répond moins à la question et au contexte du cours (pas de fonction, ni boucle)\n",
    "    #mais qui fonctionne très bien\n",
    "\n",
    "liste = [2,4,7,5,8,100,6]\n",
    "print(liste.sort())\n",
    "liste.sort() #pour trier les valeurs\n",
    "effectif_total = len(liste)\n",
    "\n",
    "\n",
    "if (effectif_total % 2 == 0):  #savoir si c'est un nombre pair ou non\n",
    "    effectif_total = effectif_total + 0\n",
    "else:\n",
    "    effectif_total = effectif_total + 1 #permet d'éviter les impaires\n",
    "\n",
    "rang_mediane = int(effectif_total / 2)\n",
    "mediane = liste[rang_mediane - 1] #-1 car on se base par rapport à l'index de la liste qui commence à 0\n",
    "\n",
    "print(mediane)"
   ]
  },
  {
   "cell_type": "code",
   "execution_count": 19,
   "metadata": {},
   "outputs": [
    {
     "data": {
      "text/plain": [
       "[2, 4, 5, 6, 7, 8, 100]"
      ]
     },
     "execution_count": 19,
     "metadata": {},
     "output_type": "execute_result"
    }
   ],
   "source": [
    "liste"
   ]
  },
  {
   "cell_type": "markdown",
   "metadata": {
    "id": "szqLMP2q6mH3"
   },
   "source": [
    "### Bonus: Exercice 5 - Conventions d'écriture (**)"
   ]
  },
  {
   "cell_type": "markdown",
   "metadata": {
    "id": "OWzc7HIj6mH3"
   },
   "source": [
    "\n",
    "Rendre le code ci-dessous le plus lisible possible (renommer les variables, aérer le code, appliquer les conventions de syntaxe)."
   ]
  },
  {
   "cell_type": "code",
   "execution_count": 39,
   "metadata": {
    "id": "nS7wNlRF6mH3"
   },
   "outputs": [
    {
     "name": "stdout",
     "output_type": "stream",
     "text": [
      "et cetera\n",
      "*****-***\n",
      "----*-*--\n",
      "---*---*-\n",
      "--*-*-*-*\n",
      "**-------\n",
      "***-----*\n",
      "--**---**\n",
      "*****-***\n",
      "----*-*--\n",
      "---*---*-\n"
     ]
    }
   ],
   "source": [
    "# Enoncé\n",
    "\n",
    "n = 10\n",
    "s = 'et cetera'\n",
    "print(s)\n",
    "i = 0\n",
    "\n",
    "while i < n:\n",
    "    new = ''\n",
    "    for j in range(len(s)):\n",
    "        left = j - 1\n",
    "        right = (j + 1) % len(s)\n",
    "        if s[left]==s[right]: new += '-'\n",
    "        else: new += '*'\n",
    "    s=''.join(new)\n",
    "    print(s)\n",
    "    i += 1"
   ]
  },
  {
   "cell_type": "code",
   "execution_count": 40,
   "metadata": {
    "ExecuteTime": {
     "end_time": "2020-10-14T16:19:48.141040Z",
     "start_time": "2020-10-14T16:19:48.133065Z"
    },
    "id": "gE3c_EaR6mH3",
    "scrolled": true
   },
   "outputs": [
    {
     "name": "stdout",
     "output_type": "stream",
     "text": [
      "et cetera\n",
      "*****-***\n",
      "----*-*--\n",
      "---*---*-\n",
      "--*-*-*-*\n",
      "**-------\n",
      "***-----*\n",
      "--**---**\n",
      "*****-***\n",
      "----*-*--\n",
      "---*---*-\n"
     ]
    }
   ],
   "source": [
    "# Solution\n",
    "\n",
    "number_of_lines = 10\n",
    "main_string = 'et cetera'\n",
    "print(main_string)\n",
    "count = 0\n",
    "\n",
    "while count < number_of_lines:\n",
    "    new = ''\n",
    "\n",
    "    for j in range(len(main_string)):\n",
    "        left = j - 1\n",
    "        right = (j + 1) % len(main_string)\n",
    "        if main_string[left] == main_string[right]:\n",
    "            new += '-'\n",
    "        else:\n",
    "            new += '*'\n",
    "\n",
    "    main_string = ''.join(new)\n",
    "    print(main_string)\n",
    "    count += 1"
   ]
  },
  {
   "cell_type": "markdown",
   "metadata": {
    "id": "FHXLHdx36mH4"
   },
   "source": [
    "## Jour 2 : Fonctions"
   ]
  },
  {
   "cell_type": "markdown",
   "metadata": {
    "id": "kxd9d3Ev6mH4"
   },
   "source": [
    "### Exercice 1 - Première valeur négative (*)\n",
    "Compléter le programme pour créer une fonction qui prend en argument une liste de nombres et renvoie le premier élément négatif de cette liste.\n",
    "\n",
    "Que fait cette fonction si on lui donne une liste vide ?"
   ]
  },
  {
   "cell_type": "code",
   "execution_count": 41,
   "metadata": {
    "id": "kQ0krLgc6mH4"
   },
   "outputs": [],
   "source": [
    "# Enoncé\n",
    "\n",
    "def first_negative(values : list):\n",
    "    for v in ____:\n",
    "        if ____:\n",
    "            return ____"
   ]
  },
  {
   "cell_type": "code",
   "execution_count": 42,
   "metadata": {
    "ExecuteTime": {
     "end_time": "2021-09-13T17:34:16.329018Z",
     "start_time": "2021-09-13T17:34:16.218314Z"
    },
    "id": "HYe_jxmz6mH4"
   },
   "outputs": [],
   "source": [
    "# Solution\n",
    "\n",
    "def first_negative(values):\n",
    "    for v in values:\n",
    "        if v < 0:\n",
    "            return v"
   ]
  },
  {
   "cell_type": "code",
   "execution_count": 43,
   "metadata": {
    "ExecuteTime": {
     "end_time": "2021-09-13T17:34:18.320384Z",
     "start_time": "2021-09-13T17:34:17.983932Z"
    },
    "id": "N_tKI24i6mH4"
   },
   "outputs": [
    {
     "data": {
      "text/plain": [
       "-1"
      ]
     },
     "execution_count": 43,
     "metadata": {},
     "output_type": "execute_result"
    }
   ],
   "source": [
    "first_negative([2, 3, -1, 2, 6, 7])"
   ]
  },
  {
   "cell_type": "markdown",
   "metadata": {
    "id": "mcd4mTTR6mH4"
   },
   "source": [
    "### Exercice 2 : Comprendre comment on construit une fonction: séparer les chiffres (**)"
   ]
  },
  {
   "cell_type": "markdown",
   "metadata": {
    "id": "4kq-HnYx6mH4"
   },
   "source": [
    "Ecrire une fonction qui donne séparemment la somme des chiffres strictement positifs et la somme des chiffres strictement négatifs d'une liste.\n",
    "Dans cet exercice, nous allons créer une fonction étape par étape."
   ]
  },
  {
   "cell_type": "markdown",
   "metadata": {
    "id": "Kz2Wp7yc6mH4"
   },
   "source": [
    "Etape 1 : Determiner notre but. Dans cet exercice, on va vouloir avoir comme résultat deux valeurs, une qui donne la somme des valeurs positives d'une liste, une qui donne les valeurs négatives d'une liste.\n",
    "Créez donc deux variables \"sommepositif\" et \"sommenegatif\" qui valent 0 toutes les deux."
   ]
  },
  {
   "cell_type": "code",
   "execution_count": 44,
   "metadata": {
    "id": "4CIuwEof6mH4"
   },
   "outputs": [],
   "source": [
    "sommepositif = 0\n",
    "sommenegatif = 0"
   ]
  },
  {
   "cell_type": "markdown",
   "metadata": {
    "id": "YcKT5kGg6mH5"
   },
   "source": [
    "Etape 2: Analyser la boucle. Dans cet exercice on nous demande de faire une opération pour chaque valeur d'une liste. Itérer une même opération revient à créer une boucle.\n",
    "Créez donc une boucle \"for\" qui affiche toutes les valeurs d'une liste."
   ]
  },
  {
   "cell_type": "code",
   "execution_count": 45,
   "metadata": {
    "id": "FJPa7-Vh6mH5"
   },
   "outputs": [],
   "source": [
    "#On prend la liste suivante comme exemple\n",
    "liste = [1,2,3,-1,-2] #Le résultat doit être 1 2 3 - 1 -2"
   ]
  },
  {
   "cell_type": "code",
   "execution_count": 46,
   "metadata": {
    "id": "zlRu3CRf6mH5"
   },
   "outputs": [
    {
     "name": "stdout",
     "output_type": "stream",
     "text": [
      "1\n",
      "2\n",
      "3\n",
      "-1\n",
      "-2\n"
     ]
    }
   ],
   "source": [
    "for i in liste:\n",
    "    print(i)"
   ]
  },
  {
   "cell_type": "markdown",
   "metadata": {
    "id": "VNqzeumM6mH5"
   },
   "source": [
    "Etape 3 : Analyser les conditions. Dans cet exercice on nous demande d'additionner tous les chiffres positifs d'une liste entre eux et les chiffres négatifs entre eux. Ecrivez les conditions pour additionner chaque valeur strictement positive à notre variable \"sommepositif\" et qui additionne chaque valeur strictement négative  \"sommenegatif\"."
   ]
  },
  {
   "cell_type": "code",
   "execution_count": 47,
   "metadata": {
    "id": "HZspHN_n6mH5"
   },
   "outputs": [
    {
     "name": "stdout",
     "output_type": "stream",
     "text": [
      "5\n",
      "0\n"
     ]
    }
   ],
   "source": [
    "#On utilise une valeur i au hasard pour tester la condition\n",
    "i = 5\n",
    "sommepositif = 0\n",
    "sommenegatif = 0\n",
    "if i > 0:\n",
    "    sommepositif = sommepositif + i\n",
    "elif i < 0:\n",
    "    sommenegatif = sommenegatif + i\n",
    "else:\n",
    "    pass\n",
    "print(sommepositif)\n",
    "print(sommenegatif)"
   ]
  },
  {
   "cell_type": "markdown",
   "metadata": {
    "id": "YcKbAlY56mH5"
   },
   "source": [
    "Etape 4: Assembler le tout. Une fois ces étapes accomplies, on veut vérifier que pour une certaine liste le tout fonctionne. Assemblez les variables, la boucle et les conditions, et affichez la somme de tous les chiffres strictement positifs et la somme de tous les chiffres strictement négatifs de cette dernière."
   ]
  },
  {
   "cell_type": "code",
   "execution_count": 48,
   "metadata": {
    "id": "ILLysQpu6mH5"
   },
   "outputs": [
    {
     "name": "stdout",
     "output_type": "stream",
     "text": [
      "6\n",
      "-3\n"
     ]
    }
   ],
   "source": [
    "liste = [1,2,3,-1,-2]\n",
    "sommepositif = 0\n",
    "sommenegatif = 0\n",
    "for i in liste:\n",
    "    if i > 0:\n",
    "        sommepositif = sommepositif + i\n",
    "    elif i < 0:\n",
    "        sommenegatif = sommenegatif + i\n",
    "print(sommepositif)\n",
    "print(sommenegatif)"
   ]
  },
  {
   "cell_type": "markdown",
   "metadata": {
    "id": "69JkpxeQ6mH5"
   },
   "source": [
    "Etape 5: Créer la fonction. Dans cet exercice, on souhaite créer une fonction applicable à n'importe quelle liste de chiffres. Créez une fonction nommée \"separation\" qui prend en entrée une valeur \"liste\" et qui donne la somme de tous les chiffres strictement positifs et la somme de tous les chiffres strictement négatifs de cette dernière."
   ]
  },
  {
   "cell_type": "code",
   "execution_count": 49,
   "metadata": {
    "id": "e04V0nMe6mH5"
   },
   "outputs": [],
   "source": [
    "def separation(liste):\n",
    "    sommepositif = 0\n",
    "    sommenegatif = 0\n",
    "    for i in liste:\n",
    "        if i > 0:\n",
    "            sommepositif = sommepositif + i\n",
    "        elif i < 0:\n",
    "            sommenegatif = sommenegatif + i\n",
    "    print(sommepositif)\n",
    "    print(sommenegatif)"
   ]
  },
  {
   "cell_type": "markdown",
   "metadata": {
    "id": "TOV1Qxn26mH5"
   },
   "source": [
    "Etape 6: Vérifier que la fonction fonctionne. Pour cela, initialisez une liste de chiffres et appliquez la à la fonction que vous venez de créer."
   ]
  },
  {
   "cell_type": "code",
   "execution_count": 50,
   "metadata": {
    "id": "IJf7TbL-6mH6"
   },
   "outputs": [
    {
     "name": "stdout",
     "output_type": "stream",
     "text": [
      "6\n",
      "-5\n"
     ]
    }
   ],
   "source": [
    "liste = [1,2,3,-1,-4]\n",
    "separation(liste)"
   ]
  },
  {
   "cell_type": "markdown",
   "metadata": {
    "id": "9S7PO_966mH6"
   },
   "source": [
    "### Exercice 3 – Multiplicateur (**)\n",
    "\n",
    "Ecrire une fonction qui multiplie entre elles toutes les valeurs d'une liste."
   ]
  },
  {
   "cell_type": "code",
   "execution_count": 51,
   "metadata": {
    "ExecuteTime": {
     "end_time": "2021-09-13T17:37:12.659850Z",
     "start_time": "2021-09-13T17:37:12.575925Z"
    },
    "id": "AoSXKtf-6mH6"
   },
   "outputs": [
    {
     "data": {
      "text/plain": [
       "-30"
      ]
     },
     "execution_count": 51,
     "metadata": {},
     "output_type": "execute_result"
    }
   ],
   "source": [
    "valeurs = [1, 3, 5, -2]\n",
    "\n",
    "result = 1\n",
    "for v in valeurs:\n",
    "    result = result * v\n",
    "result"
   ]
  },
  {
   "cell_type": "code",
   "execution_count": 52,
   "metadata": {
    "ExecuteTime": {
     "end_time": "2021-09-13T17:38:44.130551Z",
     "start_time": "2021-09-13T17:38:44.056668Z"
    },
    "id": "rNzOge7d6mH6"
   },
   "outputs": [],
   "source": [
    "valeurs = [1, 3, 5, -2] # le résultat devrait être -30\n",
    "\n",
    "def multiplicateur(liste):\n",
    "    result = 1\n",
    "    for v in liste:\n",
    "        result = result * v\n",
    "    return result"
   ]
  },
  {
   "cell_type": "code",
   "execution_count": 53,
   "metadata": {
    "ExecuteTime": {
     "end_time": "2021-09-13T17:38:51.573575Z",
     "start_time": "2021-09-13T17:38:51.545591Z"
    },
    "id": "Pydz36aA6mH6"
   },
   "outputs": [
    {
     "data": {
      "text/plain": [
       "-30"
      ]
     },
     "execution_count": 53,
     "metadata": {},
     "output_type": "execute_result"
    }
   ],
   "source": [
    "multiplicateur(valeurs)"
   ]
  },
  {
   "cell_type": "markdown",
   "metadata": {
    "id": "A2B7kDvb6mH6"
   },
   "source": [
    "### Bonus: Exercice 3 - Eléments uniques (**, @)\n",
    "\n",
    "Ecrire une fonction qui prend une liste en argument et renvoie une nouvelle liste sans doublons.<br>\n",
    "Liste en entrée : `[1,2,3,3,3,3,4,5]`<br>\n",
    "Liste attendue en sortie : `[1, 2, 3, 4, 5]`<br>\n",
    "\n",
    "_Indice : il existe 2 methodes ; une utilisant une boucle, l'autre utilisant une fonction particulière que vous pouvez trouver sur internet._"
   ]
  },
  {
   "cell_type": "code",
   "execution_count": 54,
   "metadata": {
    "ExecuteTime": {
     "end_time": "2021-09-13T17:42:48.364704Z",
     "start_time": "2021-09-13T17:42:48.268605Z"
    },
    "id": "H3UjfUsf6mH6"
   },
   "outputs": [
    {
     "name": "stdout",
     "output_type": "stream",
     "text": [
      "[1, 2, 3, 4, 5]\n"
     ]
    }
   ],
   "source": [
    "sample_list = [1, 2, 3, 3, 3, 3, 4, 5]\n",
    "uniques = []\n",
    "\n",
    "for element in sample_list:\n",
    "    if element not in uniques:\n",
    "        uniques.append(element)\n",
    "    else:\n",
    "        continue\n",
    "print(uniques)"
   ]
  },
  {
   "cell_type": "code",
   "execution_count": 55,
   "metadata": {
    "ExecuteTime": {
     "end_time": "2021-09-13T17:43:43.276268Z",
     "start_time": "2021-09-13T17:43:43.243111Z"
    },
    "id": "zJ9LFlVD6mH6"
   },
   "outputs": [
    {
     "data": {
      "text/plain": [
       "[1, 2, 3, 4, 5]"
      ]
     },
     "execution_count": 55,
     "metadata": {},
     "output_type": "execute_result"
    }
   ],
   "source": [
    "list(set(sample_list))"
   ]
  },
  {
   "cell_type": "markdown",
   "metadata": {
    "id": "Z_Z3jAi66mH6"
   },
   "source": [
    "### Bonus: Exercice 4 - Nombres parfaits (***, @)\n",
    "\n",
    "Ecrire un programme qui vérifie si un nombre est parfait ou non. Testez-le sur les nombres 28 et 29.<br>\n",
    "\n",
    "*Un nombre parfait est un entier positif qui est égal à la somme de tous ses diviseurs propres positifs, c'est à dire la somme de tous ses diviseurs positifs à l'exception du nombre lui même.<br>\n",
    "Exemple : Le premier nombre parfait est 6, car 1, 2 et 3 sont ses diviseurs propres positifs, et 1 + 2 + 3 = 6.\n",
    "Le suivant est 28 = 1 + 2 + 4 + 7 + 14.*"
   ]
  },
  {
   "cell_type": "code",
   "execution_count": 56,
   "metadata": {
    "ExecuteTime": {
     "end_time": "2021-09-13T17:47:55.190034Z",
     "start_time": "2021-09-13T17:47:55.105962Z"
    },
    "id": "X-ukH2QI6mH7"
   },
   "outputs": [
    {
     "name": "stdout",
     "output_type": "stream",
     "text": [
      "Le nombre est parfait !\n"
     ]
    }
   ],
   "source": [
    "test = 28\n",
    "somme = 0\n",
    "\n",
    "for n in range(1, test):\n",
    "    if test % n == 0:  # pour chaque nombre qui divise number_to_test\n",
    "        somme += n     # j'update ma somme de diviseurs\n",
    "\n",
    "if somme == test:      # je checke l'égalité avec le nombre initial\n",
    "    print('Le nombre est parfait !')\n",
    "else:\n",
    "    print(\"Le nombre n'est pas parfait.\")"
   ]
  },
  {
   "cell_type": "code",
   "execution_count": 57,
   "metadata": {
    "ExecuteTime": {
     "end_time": "2021-09-13T17:49:38.305188Z",
     "start_time": "2021-09-13T17:49:38.275145Z"
    },
    "id": "LjETRGNI6mH7"
   },
   "outputs": [],
   "source": [
    "def nombre_parfait(x):\n",
    "    somme = 0\n",
    "    for n in range(1, x):\n",
    "        if x % n == 0:  # pour chaque nombre qui divise number_to_test\n",
    "            somme += n     # j'update ma somme de diviseurs\n",
    "\n",
    "    if somme == x:      # je checke l'égalité avec le nombre initial\n",
    "        print('Le nombre est parfait !')\n",
    "        return True\n",
    "    else:\n",
    "        print(\"Le nombre n'est pas parfait.\")\n",
    "        return False"
   ]
  },
  {
   "cell_type": "code",
   "execution_count": 58,
   "metadata": {
    "ExecuteTime": {
     "end_time": "2021-09-13T17:49:46.694057Z",
     "start_time": "2021-09-13T17:49:46.669607Z"
    },
    "id": "12YS8WYX6mH-"
   },
   "outputs": [
    {
     "name": "stdout",
     "output_type": "stream",
     "text": [
      "Le nombre n'est pas parfait.\n"
     ]
    },
    {
     "data": {
      "text/plain": [
       "False"
      ]
     },
     "execution_count": 58,
     "metadata": {},
     "output_type": "execute_result"
    }
   ],
   "source": [
    "nombre_parfait(400)"
   ]
  },
  {
   "cell_type": "code",
   "execution_count": null,
   "metadata": {
    "id": "LRIX-8L_6mH_"
   },
   "outputs": [],
   "source": []
  }
 ],
 "metadata": {
  "colab": {
   "provenance": []
  },
  "hide_input": false,
  "kernelspec": {
   "display_name": "Python 3 (ipykernel)",
   "language": "python",
   "name": "python3"
  },
  "language_info": {
   "codemirror_mode": {
    "name": "ipython",
    "version": 3
   },
   "file_extension": ".py",
   "mimetype": "text/x-python",
   "name": "python",
   "nbconvert_exporter": "python",
   "pygments_lexer": "ipython3",
   "version": "3.12.4"
  },
  "toc": {
   "base_numbering": 1,
   "nav_menu": {},
   "number_sections": true,
   "sideBar": true,
   "skip_h1_title": false,
   "title_cell": "Table of Contents",
   "title_sidebar": "Contents",
   "toc_cell": false,
   "toc_position": {},
   "toc_section_display": true,
   "toc_window_display": true
  },
  "varInspector": {
   "cols": {
    "lenName": 16,
    "lenType": 16,
    "lenVar": 40
   },
   "kernels_config": {
    "python": {
     "delete_cmd_postfix": "",
     "delete_cmd_prefix": "del ",
     "library": "var_list.py",
     "varRefreshCmd": "print(var_dic_list())"
    },
    "r": {
     "delete_cmd_postfix": ") ",
     "delete_cmd_prefix": "rm(",
     "library": "var_list.r",
     "varRefreshCmd": "cat(var_dic_list()) "
    }
   },
   "types_to_exclude": [
    "module",
    "function",
    "builtin_function_or_method",
    "instance",
    "_Feature"
   ],
   "window_display": false
  }
 },
 "nbformat": 4,
 "nbformat_minor": 4
}
