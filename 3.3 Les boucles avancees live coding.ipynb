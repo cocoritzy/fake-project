{
 "cells": [
  {
   "cell_type": "markdown",
   "metadata": {
    "heading_collapsed": true,
    "id": "h3smAvF13usZ"
   },
   "source": [
    "## Mots clés spéciaux"
   ]
  },
  {
   "cell_type": "markdown",
   "metadata": {
    "hidden": true,
    "id": "JSF7RuXm3usZ"
   },
   "source": [
    "Certains mots clés permettent de faire des actions particulières au sein de boucles `for` et `while`\n",
    "\n",
    "Le mot clé `break` permet d'immédiatement sortir d'une boucle si une conditions est remplie"
   ]
  },
  {
   "cell_type": "code",
   "execution_count": null,
   "metadata": {
    "ExecuteTime": {
     "end_time": "2021-10-03T19:04:42.344660Z",
     "start_time": "2021-10-03T19:04:42.331654Z"
    },
    "hidden": true,
    "id": "UDra-Fcl3usZ",
    "outputId": "ebc877b4-5542-413b-a374-f95177a84741"
   },
   "outputs": [
    {
     "name": "stdout",
     "output_type": "stream",
     "text": [
      "P\n",
      "y\n",
      "t\n",
      "lettre actuelle : h\n"
     ]
    }
   ],
   "source": [
    "for lettre in 'Python':\n",
    "    if lettre == 'h':\n",
    "        break\n",
    "    else:\n",
    "        print(lettre)\n",
    "\n",
    "print('lettre actuelle :', lettre)"
   ]
  },
  {
   "cell_type": "markdown",
   "metadata": {
    "hidden": true,
    "id": "CgxOX1yR3usZ"
   },
   "source": [
    "Le mot clé `continue`, quand il est lu, permet de passer directement à l'itération suivante d'une boucle. Toutes les instructions qui auraient pu être lues après le continue sont donc ignorées."
   ]
  },
  {
   "cell_type": "code",
   "execution_count": null,
   "metadata": {
    "ExecuteTime": {
     "end_time": "2021-10-03T19:04:51.068722Z",
     "start_time": "2021-10-03T19:04:51.043605Z"
    },
    "hidden": true,
    "id": "2tuZ9b3Q3usa",
    "outputId": "2208466f-5882-48c7-84bc-b4608efc6f0a"
   },
   "outputs": [
    {
     "name": "stdout",
     "output_type": "stream",
     "text": [
      "P\n",
      "y\n",
      "t\n",
      "o\n",
      "n\n",
      "Lettre actuelle : n\n"
     ]
    }
   ],
   "source": [
    "for lettre in 'Python':\n",
    "    if lettre == 'h':\n",
    "        continue\n",
    "    else:\n",
    "        print(lettre)\n",
    "\n",
    "print('Lettre actuelle :', lettre)"
   ]
  },
  {
   "cell_type": "markdown",
   "metadata": {
    "hidden": true,
    "id": "CuDlwXKx3usa"
   },
   "source": [
    "Le mot clé `pass` est utilisé pour combler des vides dans le code lorsqu'il est en construction.\n",
    "Dans une syntaxe IF .. ELIF .. ELSE, on doit mentionner des instructions après chaque condition. Si on ne sait pas encore quelle instruction écrire dans le ELIF par exemple, on peut utiliser un PASS pour ne pas générer une erreur en laissant l'espace vide. "
   ]
  },
  {
   "cell_type": "code",
   "execution_count": null,
   "metadata": {
    "ExecuteTime": {
     "end_time": "2021-10-03T19:04:54.341933Z",
     "start_time": "2021-10-03T19:04:54.335852Z"
    },
    "hidden": true,
    "id": "UvheAVTD3usa",
    "outputId": "217c592e-1e17-4cea-ec75-9ecc8715b92f",
    "scrolled": true
   },
   "outputs": [
    {
     "name": "stdout",
     "output_type": "stream",
     "text": [
      "P\n",
      "y\n",
      "t\n",
      "o\n",
      "n\n"
     ]
    }
   ],
   "source": [
    "for lettre in 'Python': \n",
    "    if lettre == 'h':\n",
    "        pass\n",
    "        \n",
    "    else:\n",
    "        print(lettre)"
   ]
  },
  {
   "cell_type": "markdown",
   "metadata": {
    "hidden": true,
    "id": "Raksvbwt3usa"
   },
   "source": [
    "Ici on ne sait pas encore ce qu'on veut faire si `if letter == 'h'`, le bloc `else` est lui déjà rédigé. On ne peut pas supprimer le bloc `if` donc en attendant on se contente d'un `pass`"
   ]
  }
 ],
 "metadata": {
  "colab": {
   "name": "J1 live-coding.ipynb",
   "provenance": []
  },
  "hide_input": false,
  "kernelspec": {
   "display_name": "Python 3 (ipykernel)",
   "language": "python",
   "name": "python3"
  },
  "language_info": {
   "codemirror_mode": {
    "name": "ipython",
    "version": 3
   },
   "file_extension": ".py",
   "mimetype": "text/x-python",
   "name": "python",
   "nbconvert_exporter": "python",
   "pygments_lexer": "ipython3",
   "version": "3.12.4"
  },
  "toc": {
   "base_numbering": 1,
   "nav_menu": {},
   "number_sections": true,
   "sideBar": true,
   "skip_h1_title": false,
   "title_cell": "Table of Contents",
   "title_sidebar": "Contents",
   "toc_cell": false,
   "toc_position": {},
   "toc_section_display": true,
   "toc_window_display": false
  },
  "varInspector": {
   "cols": {
    "lenName": 16,
    "lenType": 16,
    "lenVar": 40
   },
   "kernels_config": {
    "python": {
     "delete_cmd_postfix": "",
     "delete_cmd_prefix": "del ",
     "library": "var_list.py",
     "varRefreshCmd": "print(var_dic_list())"
    },
    "r": {
     "delete_cmd_postfix": ") ",
     "delete_cmd_prefix": "rm(",
     "library": "var_list.r",
     "varRefreshCmd": "cat(var_dic_list()) "
    }
   },
   "types_to_exclude": [
    "module",
    "function",
    "builtin_function_or_method",
    "instance",
    "_Feature"
   ],
   "window_display": false
  }
 },
 "nbformat": 4,
 "nbformat_minor": 4
}
